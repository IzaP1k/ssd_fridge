{
 "cells": [
  {
   "cell_type": "code",
   "execution_count": null,
   "outputs": [],
   "source": [
    "from vgg16_scratch import *"
   ],
   "metadata": {
    "collapsed": false,
    "ExecuteTime": {
     "start_time": "2024-11-05T11:02:52.543240700Z"
    }
   },
   "id": "7d2d823bd381490d"
  },
  {
   "cell_type": "code",
   "execution_count": 121,
   "id": "initial_id",
   "metadata": {
    "collapsed": true,
    "ExecuteTime": {
     "end_time": "2024-11-05T11:02:55.843893300Z",
     "start_time": "2024-11-05T11:02:52.820853700Z"
    }
   },
   "outputs": [
    {
     "name": "stdout",
     "output_type": "stream",
     "text": [
      "The autoreload extension is already loaded. To reload it, use:\n",
      "  %reload_ext autoreload\n"
     ]
    }
   ],
   "source": [
    "%load_ext autoreload\n",
    "%autoreload 2\n",
    "%reload_ext autoreload"
   ]
  },
  {
   "cell_type": "code",
   "execution_count": 106,
   "outputs": [],
   "source": [
    "train_annotations = pd.read_csv(rf\"C:\\Users\\izaol\\fridge_food\\jedzenie\\train\\labels\\_annotations.csv\")\n",
    "valid_annotations = pd.read_csv(rf\"C:\\Users\\izaol\\fridge_food\\jedzenie\\valid\\labels\\_annotations.csv\")\n",
    "test_annotations = pd.read_csv(rf\"C:\\Users\\izaol\\fridge_food\\jedzenie\\test\\labels\\_annotations.csv\")"
   ],
   "metadata": {
    "collapsed": false,
    "ExecuteTime": {
     "end_time": "2024-11-05T10:59:49.760612Z",
     "start_time": "2024-11-05T10:59:46.963480200Z"
    }
   },
   "id": "76939ac96af2cebf"
  },
  {
   "cell_type": "code",
   "execution_count": 107,
   "outputs": [
    {
     "name": "stdout",
     "output_type": "stream",
     "text": [
      "YEAH\n",
      "YEAH\n",
      "YEAH\n",
      "YEAH\n",
      "YEAH\n",
      "YEAH\n",
      "YEAH\n"
     ]
    }
   ],
   "source": [
    "for el in train_annotations['filename']:\n",
    "    \n",
    "    if el == \"20241103_122609_jpg.rf.71bfcfdaf3a78680b1b699bc6c0e4c31.jpg\":\n",
    "        print('YEAH')"
   ],
   "metadata": {
    "collapsed": false,
    "ExecuteTime": {
     "end_time": "2024-11-05T10:59:52.334560800Z",
     "start_time": "2024-11-05T10:59:49.762612700Z"
    }
   },
   "id": "303ad0c90beddf53"
  },
  {
   "cell_type": "code",
   "execution_count": 108,
   "outputs": [],
   "source": [
    "train_class_counts, val_class_counts, test_class_counts = change_labels(train_annotations, valid_annotations, test_annotations)"
   ],
   "metadata": {
    "collapsed": false,
    "ExecuteTime": {
     "end_time": "2024-11-05T10:59:54.998635Z",
     "start_time": "2024-11-05T10:59:52.336561300Z"
    }
   },
   "id": "bf143f490af765b8"
  },
  {
   "cell_type": "code",
   "execution_count": 109,
   "outputs": [
    {
     "data": {
      "text/plain": "                                              filename  class_0  class_1  \\\n0    20241103_122609_jpg.rf.71bfcfdaf3a78680b1b699b...        3        1   \n1    20241103_122609_jpg.rf.de8a0f2012d6727cab3687a...        3        1   \n2    20241103_122609_jpg.rf.fa6298b0f58fd7cdf9385ff...        3        1   \n3    20241103_122615_jpg.rf.026e6fd650f9bb609bebefe...        3        1   \n4    20241103_122615_jpg.rf.2fe938cf40e8344e47354ac...        3        1   \n..                                                 ...      ...      ...   \n141  20241103_123217_jpg.rf.3997e49ee626750e148d3a8...        1        1   \n142  20241103_123217_jpg.rf.89a1503de1be981aca27910...        1        1   \n143  20241103_123224_jpg.rf.005537061fe29cdd722d556...        2        1   \n144  20241103_123224_jpg.rf.04f78254a28506976715365...        2        1   \n145  20241103_123224_jpg.rf.571d0f37eb46ca8379316ad...        2        1   \n\n     class_2  class_3  \n0          1        2  \n1          1        2  \n2          1        2  \n3          0        2  \n4          0        2  \n..       ...      ...  \n141        0        2  \n142        0        2  \n143        1        1  \n144        1        1  \n145        1        1  \n\n[146 rows x 5 columns]",
      "text/html": "<div>\n<style scoped>\n    .dataframe tbody tr th:only-of-type {\n        vertical-align: middle;\n    }\n\n    .dataframe tbody tr th {\n        vertical-align: top;\n    }\n\n    .dataframe thead th {\n        text-align: right;\n    }\n</style>\n<table border=\"1\" class=\"dataframe\">\n  <thead>\n    <tr style=\"text-align: right;\">\n      <th></th>\n      <th>filename</th>\n      <th>class_0</th>\n      <th>class_1</th>\n      <th>class_2</th>\n      <th>class_3</th>\n    </tr>\n  </thead>\n  <tbody>\n    <tr>\n      <th>0</th>\n      <td>20241103_122609_jpg.rf.71bfcfdaf3a78680b1b699b...</td>\n      <td>3</td>\n      <td>1</td>\n      <td>1</td>\n      <td>2</td>\n    </tr>\n    <tr>\n      <th>1</th>\n      <td>20241103_122609_jpg.rf.de8a0f2012d6727cab3687a...</td>\n      <td>3</td>\n      <td>1</td>\n      <td>1</td>\n      <td>2</td>\n    </tr>\n    <tr>\n      <th>2</th>\n      <td>20241103_122609_jpg.rf.fa6298b0f58fd7cdf9385ff...</td>\n      <td>3</td>\n      <td>1</td>\n      <td>1</td>\n      <td>2</td>\n    </tr>\n    <tr>\n      <th>3</th>\n      <td>20241103_122615_jpg.rf.026e6fd650f9bb609bebefe...</td>\n      <td>3</td>\n      <td>1</td>\n      <td>0</td>\n      <td>2</td>\n    </tr>\n    <tr>\n      <th>4</th>\n      <td>20241103_122615_jpg.rf.2fe938cf40e8344e47354ac...</td>\n      <td>3</td>\n      <td>1</td>\n      <td>0</td>\n      <td>2</td>\n    </tr>\n    <tr>\n      <th>...</th>\n      <td>...</td>\n      <td>...</td>\n      <td>...</td>\n      <td>...</td>\n      <td>...</td>\n    </tr>\n    <tr>\n      <th>141</th>\n      <td>20241103_123217_jpg.rf.3997e49ee626750e148d3a8...</td>\n      <td>1</td>\n      <td>1</td>\n      <td>0</td>\n      <td>2</td>\n    </tr>\n    <tr>\n      <th>142</th>\n      <td>20241103_123217_jpg.rf.89a1503de1be981aca27910...</td>\n      <td>1</td>\n      <td>1</td>\n      <td>0</td>\n      <td>2</td>\n    </tr>\n    <tr>\n      <th>143</th>\n      <td>20241103_123224_jpg.rf.005537061fe29cdd722d556...</td>\n      <td>2</td>\n      <td>1</td>\n      <td>1</td>\n      <td>1</td>\n    </tr>\n    <tr>\n      <th>144</th>\n      <td>20241103_123224_jpg.rf.04f78254a28506976715365...</td>\n      <td>2</td>\n      <td>1</td>\n      <td>1</td>\n      <td>1</td>\n    </tr>\n    <tr>\n      <th>145</th>\n      <td>20241103_123224_jpg.rf.571d0f37eb46ca8379316ad...</td>\n      <td>2</td>\n      <td>1</td>\n      <td>1</td>\n      <td>1</td>\n    </tr>\n  </tbody>\n</table>\n<p>146 rows × 5 columns</p>\n</div>"
     },
     "execution_count": 109,
     "metadata": {},
     "output_type": "execute_result"
    }
   ],
   "source": [
    "train_class_counts"
   ],
   "metadata": {
    "collapsed": false,
    "ExecuteTime": {
     "end_time": "2024-11-05T10:59:57.586515300Z",
     "start_time": "2024-11-05T10:59:55.000635900Z"
    }
   },
   "id": "119cee06a7c2456e"
  },
  {
   "cell_type": "code",
   "execution_count": 110,
   "outputs": [],
   "source": [
    "train_df = get_data(train_class_counts, rf\"C:\\Users\\izaol\\fridge_food\\jedzenie\\train\\images\")"
   ],
   "metadata": {
    "collapsed": false,
    "ExecuteTime": {
     "end_time": "2024-11-05T11:00:01.363492800Z",
     "start_time": "2024-11-05T10:59:57.585510900Z"
    }
   },
   "id": "4df590fe79703b0d"
  },
  {
   "cell_type": "code",
   "execution_count": 111,
   "outputs": [],
   "source": [
    "val_df = get_data(val_class_counts, rf\"C:\\Users\\izaol\\fridge_food\\jedzenie\\valid\\images\")"
   ],
   "metadata": {
    "collapsed": false,
    "ExecuteTime": {
     "end_time": "2024-11-05T11:00:03.965549900Z",
     "start_time": "2024-11-05T11:00:01.366494900Z"
    }
   },
   "id": "a1eb60cb75647d0e"
  },
  {
   "cell_type": "code",
   "execution_count": 112,
   "outputs": [],
   "source": [
    "test_df = get_data(test_class_counts, rf\"C:\\Users\\izaol\\fridge_food\\jedzenie\\test\\images\")"
   ],
   "metadata": {
    "collapsed": false,
    "ExecuteTime": {
     "end_time": "2024-11-05T11:00:06.489411600Z",
     "start_time": "2024-11-05T11:00:03.967547Z"
    }
   },
   "id": "e228828212594804"
  },
  {
   "cell_type": "code",
   "execution_count": 113,
   "outputs": [],
   "source": [
    "train_loader, val_loader, test_loader = split_tensor_data(train_df, val_df, test_df)"
   ],
   "metadata": {
    "collapsed": false,
    "ExecuteTime": {
     "end_time": "2024-11-05T11:00:09.387155400Z",
     "start_time": "2024-11-05T11:00:06.490411500Z"
    }
   },
   "id": "619ae19aa128cfa3"
  },
  {
   "cell_type": "code",
   "execution_count": 114,
   "outputs": [],
   "source": [
    "num_classes = 4\n",
    "num_epochs = 50\n",
    "batch_size = 2\n",
    "learning_rate = 0.001"
   ],
   "metadata": {
    "collapsed": false,
    "ExecuteTime": {
     "end_time": "2024-11-05T11:00:11.974014900Z",
     "start_time": "2024-11-05T11:00:09.388159500Z"
    }
   },
   "id": "cac365efd0b9cbdc"
  },
  {
   "cell_type": "code",
   "execution_count": 115,
   "outputs": [],
   "source": [
    "torch.cuda.empty_cache()"
   ],
   "metadata": {
    "collapsed": false,
    "ExecuteTime": {
     "end_time": "2024-11-05T11:00:14.519174600Z",
     "start_time": "2024-11-05T11:00:11.974014900Z"
    }
   },
   "id": "14b4b1f20ac4823c"
  },
  {
   "cell_type": "code",
   "execution_count": 116,
   "outputs": [
    {
     "data": {
      "text/plain": "'|===========================================================================|\\n|                  PyTorch CUDA memory summary, device ID 0                 |\\n|---------------------------------------------------------------------------|\\n|            CUDA OOMs: 5            |        cudaMalloc retries: 6         |\\n|===========================================================================|\\n|        Metric         | Cur Usage  | Peak Usage | Tot Alloc  | Tot Freed  |\\n|---------------------------------------------------------------------------|\\n| Allocated memory      |   2268 MiB |   2322 MiB |   6846 MiB |   4577 MiB |\\n|       from large pool |   2265 MiB |   2319 MiB |   6839 MiB |   4574 MiB |\\n|       from small pool |      3 MiB |      3 MiB |      6 MiB |      3 MiB |\\n|---------------------------------------------------------------------------|\\n| Active memory         |   2268 MiB |   2322 MiB |   6846 MiB |   4577 MiB |\\n|       from large pool |   2265 MiB |   2319 MiB |   6839 MiB |   4574 MiB |\\n|       from small pool |      3 MiB |      3 MiB |      6 MiB |      3 MiB |\\n|---------------------------------------------------------------------------|\\n| Requested memory      |   2264 MiB |   2317 MiB |   6838 MiB |   4574 MiB |\\n|       from large pool |   2260 MiB |   2315 MiB |   6831 MiB |   4570 MiB |\\n|       from small pool |      3 MiB |      3 MiB |      6 MiB |      3 MiB |\\n|---------------------------------------------------------------------------|\\n| GPU reserved memory   |   2378 MiB |   2384 MiB |   3638 MiB |   1260 MiB |\\n|       from large pool |   2374 MiB |   2380 MiB |   3634 MiB |   1260 MiB |\\n|       from small pool |      4 MiB |      4 MiB |      4 MiB |      0 MiB |\\n|---------------------------------------------------------------------------|\\n| Non-releasable memory | 111801 KiB | 507247 KiB |   2296 MiB |   2187 MiB |\\n|       from large pool | 111125 KiB | 505462 KiB |   2290 MiB |   2181 MiB |\\n|       from small pool |    676 KiB |   2041 KiB |      6 MiB |      6 MiB |\\n|---------------------------------------------------------------------------|\\n| Allocations           |     296    |     296    |     433    |     137    |\\n|       from large pool |      39    |      39    |      71    |      32    |\\n|       from small pool |     257    |     257    |     362    |     105    |\\n|---------------------------------------------------------------------------|\\n| Active allocs         |     296    |     296    |     433    |     137    |\\n|       from large pool |      39    |      39    |      71    |      32    |\\n|       from small pool |     257    |     257    |     362    |     105    |\\n|---------------------------------------------------------------------------|\\n| GPU reserved segments |       9    |      16    |      19    |      10    |\\n|       from large pool |       7    |      14    |      17    |      10    |\\n|       from small pool |       2    |       2    |       2    |       0    |\\n|---------------------------------------------------------------------------|\\n| Non-releasable allocs |       5    |      20    |      39    |      34    |\\n|       from large pool |       3    |       5    |      19    |      16    |\\n|       from small pool |       2    |      16    |      20    |      18    |\\n|---------------------------------------------------------------------------|\\n| Oversize allocations  |       0    |       0    |       0    |       0    |\\n|---------------------------------------------------------------------------|\\n| Oversize GPU segments |       0    |       0    |       0    |       0    |\\n|===========================================================================|\\n'"
     },
     "execution_count": 116,
     "metadata": {},
     "output_type": "execute_result"
    }
   ],
   "source": [
    "torch.cuda.memory_summary(device=None, abbreviated=False)"
   ],
   "metadata": {
    "collapsed": false,
    "ExecuteTime": {
     "end_time": "2024-11-05T11:00:17.056892200Z",
     "start_time": "2024-11-05T11:00:14.523180100Z"
    }
   },
   "id": "af93b03fd3008705"
  },
  {
   "cell_type": "code",
   "execution_count": 117,
   "outputs": [],
   "source": [
    "device = \"cpu\""
   ],
   "metadata": {
    "collapsed": false,
    "ExecuteTime": {
     "end_time": "2024-11-05T11:00:19.621167200Z",
     "start_time": "2024-11-05T11:00:17.059865400Z"
    }
   },
   "id": "d56f86f032888d8c"
  },
  {
   "cell_type": "code",
   "execution_count": 118,
   "outputs": [],
   "source": [
    "vgg_model = VGG16(num_classes=4).to(device)"
   ],
   "metadata": {
    "collapsed": false,
    "ExecuteTime": {
     "end_time": "2024-11-05T11:00:23.498806300Z",
     "start_time": "2024-11-05T11:00:19.626168200Z"
    }
   },
   "id": "579c1557866a8c6e"
  },
  {
   "cell_type": "code",
   "execution_count": 119,
   "outputs": [],
   "source": [
    "criterion = nn.CrossEntropyLoss()\n",
    "optimizer = torch.optim.SGD(vgg_model.parameters(), lr=learning_rate, weight_decay = 0.005, momentum = 0.9)  "
   ],
   "metadata": {
    "collapsed": false,
    "ExecuteTime": {
     "end_time": "2024-11-05T11:00:26.020623500Z",
     "start_time": "2024-11-05T11:00:23.501813800Z"
    }
   },
   "id": "2f3e498bd8602d3"
  },
  {
   "cell_type": "code",
   "execution_count": 122,
   "outputs": [
    {
     "name": "stdout",
     "output_type": "stream",
     "text": [
      "Epoch [1/50], Step [15/15], Loss: 5.7530\n",
      "Liczba błędów przewidywań dla każdej kolumny: tensor([7, 7, 7, 7])\n",
      "Średnia różnica między przewidywaniami a etykietami dla każdej kolumny: tensor([1.7338, 1.6468, 1.4726, 0.6745])\n",
      "Epoch [2/50], Step [15/15], Loss: 5.7181\n",
      "Liczba błędów przewidywań dla każdej kolumny: tensor([7, 7, 7, 7])\n",
      "Średnia różnica między przewidywaniami a etykietami dla każdej kolumny: tensor([1.1991, 0.9322, 1.2473, 0.8982])\n",
      "Epoch [3/50], Step [15/15], Loss: 4.5556\n",
      "Liczba błędów przewidywań dla każdej kolumny: tensor([7, 7, 7, 7])\n",
      "Średnia różnica między przewidywaniami a etykietami dla każdej kolumny: tensor([1.2390, 1.0627, 1.2052, 1.1389])\n",
      "Epoch [4/50], Step [15/15], Loss: 6.3219\n",
      "Liczba błędów przewidywań dla każdej kolumny: tensor([7, 7, 7, 7])\n",
      "Średnia różnica między przewidywaniami a etykietami dla każdej kolumny: tensor([1.2643, 1.0678, 1.5844, 0.9640])\n",
      "Epoch [5/50], Step [15/15], Loss: 5.8164\n",
      "Liczba błędów przewidywań dla każdej kolumny: tensor([7, 7, 7, 7])\n",
      "Średnia różnica między przewidywaniami a etykietami dla każdej kolumny: tensor([1.0758, 1.2985, 0.9274, 0.8439])\n",
      "Epoch [6/50], Step [15/15], Loss: 5.7902\n",
      "Liczba błędów przewidywań dla każdej kolumny: tensor([7, 7, 7, 7])\n",
      "Średnia różnica między przewidywaniami a etykietami dla każdej kolumny: tensor([1.4424, 0.9115, 1.0269, 0.8767])\n",
      "Epoch [7/50], Step [15/15], Loss: 4.6978\n",
      "Liczba błędów przewidywań dla każdej kolumny: tensor([7, 7, 7, 7])\n",
      "Średnia różnica między przewidywaniami a etykietami dla każdej kolumny: tensor([1.5007, 0.8925, 1.0508, 0.7202])\n",
      "Epoch [8/50], Step [15/15], Loss: 5.6380\n",
      "Liczba błędów przewidywań dla każdej kolumny: tensor([7, 7, 7, 7])\n",
      "Średnia różnica między przewidywaniami a etykietami dla każdej kolumny: tensor([1.6058, 0.9287, 0.8511, 0.8554])\n",
      "Epoch [9/50], Step [15/15], Loss: 6.2012\n",
      "Liczba błędów przewidywań dla każdej kolumny: tensor([7, 7, 7, 7])\n",
      "Średnia różnica między przewidywaniami a etykietami dla każdej kolumny: tensor([1.9303, 0.9207, 0.9270, 1.1479])\n",
      "Epoch [10/50], Step [15/15], Loss: 3.6349\n",
      "Liczba błędów przewidywań dla każdej kolumny: tensor([7, 7, 7, 7])\n",
      "Średnia różnica między przewidywaniami a etykietami dla każdej kolumny: tensor([1.6922, 0.9714, 0.7710, 1.0439])\n",
      "Epoch [11/50], Step [15/15], Loss: 4.1188\n",
      "Liczba błędów przewidywań dla każdej kolumny: tensor([7, 7, 7, 7])\n",
      "Średnia różnica między przewidywaniami a etykietami dla każdej kolumny: tensor([1.3101, 0.8546, 1.1050, 1.0688])\n",
      "Epoch [12/50], Step [15/15], Loss: 4.5553\n",
      "Liczba błędów przewidywań dla każdej kolumny: tensor([7, 7, 7, 7])\n",
      "Średnia różnica między przewidywaniami a etykietami dla każdej kolumny: tensor([1.5818, 0.9320, 1.0630, 0.8315])\n",
      "Epoch [13/50], Step [15/15], Loss: 4.5837\n",
      "Liczba błędów przewidywań dla każdej kolumny: tensor([7, 7, 7, 7])\n",
      "Średnia różnica między przewidywaniami a etykietami dla każdej kolumny: tensor([1.7629, 0.8625, 0.9161, 0.9003])\n",
      "Epoch [14/50], Step [15/15], Loss: 5.9779\n",
      "Liczba błędów przewidywań dla każdej kolumny: tensor([7, 7, 7, 7])\n",
      "Średnia różnica między przewidywaniami a etykietami dla każdej kolumny: tensor([2.0505, 0.7937, 0.8781, 1.0517])\n",
      "Epoch [15/50], Step [15/15], Loss: 3.3961\n",
      "Liczba błędów przewidywań dla każdej kolumny: tensor([7, 7, 7, 7])\n",
      "Średnia różnica między przewidywaniami a etykietami dla każdej kolumny: tensor([1.8205, 0.9386, 0.9597, 0.8261])\n",
      "Epoch [16/50], Step [15/15], Loss: 3.4369\n",
      "Liczba błędów przewidywań dla każdej kolumny: tensor([7, 7, 7, 7])\n",
      "Średnia różnica między przewidywaniami a etykietami dla każdej kolumny: tensor([1.4965, 0.8259, 1.1098, 0.9060])\n",
      "Epoch [17/50], Step [15/15], Loss: 5.6077\n",
      "Liczba błędów przewidywań dla każdej kolumny: tensor([7, 7, 7, 7])\n",
      "Średnia różnica między przewidywaniami a etykietami dla każdej kolumny: tensor([1.3572, 0.9389, 0.9017, 1.2092])\n",
      "Epoch [18/50], Step [15/15], Loss: 6.0170\n",
      "Liczba błędów przewidywań dla każdej kolumny: tensor([7, 7, 7, 7])\n",
      "Średnia różnica między przewidywaniami a etykietami dla każdej kolumny: tensor([1.3416, 0.8973, 0.9662, 1.2186])\n",
      "Epoch [19/50], Step [15/15], Loss: 5.3258\n",
      "Liczba błędów przewidywań dla każdej kolumny: tensor([7, 7, 7, 7])\n",
      "Średnia różnica między przewidywaniami a etykietami dla każdej kolumny: tensor([1.5943, 0.8503, 0.9776, 1.3399])\n",
      "Epoch [20/50], Step [15/15], Loss: 4.2637\n",
      "Liczba błędów przewidywań dla każdej kolumny: tensor([7, 7, 7, 7])\n",
      "Średnia różnica między przewidywaniami a etykietami dla każdej kolumny: tensor([1.4965, 0.8131, 1.0669, 1.2069])\n",
      "Epoch [21/50], Step [15/15], Loss: 6.3876\n",
      "Liczba błędów przewidywań dla każdej kolumny: tensor([7, 7, 7, 7])\n",
      "Średnia różnica między przewidywaniami a etykietami dla każdej kolumny: tensor([1.3505, 0.8895, 1.0816, 1.1049])\n",
      "Epoch [22/50], Step [15/15], Loss: 4.9848\n",
      "Liczba błędów przewidywań dla każdej kolumny: tensor([7, 7, 7, 7])\n",
      "Średnia różnica między przewidywaniami a etykietami dla każdej kolumny: tensor([1.3240, 0.8341, 0.8630, 1.2039])\n",
      "Epoch [23/50], Step [15/15], Loss: 5.9776\n",
      "Liczba błędów przewidywań dla każdej kolumny: tensor([7, 7, 7, 7])\n",
      "Średnia różnica między przewidywaniami a etykietami dla każdej kolumny: tensor([1.4331, 0.7885, 0.7622, 1.5088])\n",
      "Epoch [24/50], Step [15/15], Loss: 5.1257\n",
      "Liczba błędów przewidywań dla każdej kolumny: tensor([7, 7, 7, 7])\n",
      "Średnia różnica między przewidywaniami a etykietami dla każdej kolumny: tensor([1.4163, 0.7250, 0.8924, 1.3908])\n",
      "Epoch [25/50], Step [15/15], Loss: 3.2241\n",
      "Liczba błędów przewidywań dla każdej kolumny: tensor([7, 7, 7, 7])\n",
      "Średnia różnica między przewidywaniami a etykietami dla każdej kolumny: tensor([1.3834, 0.8517, 1.0899, 1.1339])\n",
      "Epoch [26/50], Step [15/15], Loss: 4.8958\n",
      "Liczba błędów przewidywań dla każdej kolumny: tensor([7, 7, 7, 7])\n",
      "Średnia różnica między przewidywaniami a etykietami dla każdej kolumny: tensor([1.7293, 0.7746, 0.8595, 1.2749])\n",
      "Epoch [27/50], Step [15/15], Loss: 6.4440\n",
      "Liczba błędów przewidywań dla każdej kolumny: tensor([7, 7, 7, 7])\n",
      "Średnia różnica między przewidywaniami a etykietami dla każdej kolumny: tensor([1.2915, 0.6274, 1.0321, 1.3448])\n",
      "Epoch [28/50], Step [15/15], Loss: 6.0861\n",
      "Liczba błędów przewidywań dla każdej kolumny: tensor([7, 7, 7, 7])\n",
      "Średnia różnica między przewidywaniami a etykietami dla każdej kolumny: tensor([1.6180, 0.6475, 0.8250, 1.4443])\n",
      "Epoch [29/50], Step [15/15], Loss: 3.4509\n",
      "Liczba błędów przewidywań dla każdej kolumny: tensor([7, 7, 7, 7])\n",
      "Średnia różnica między przewidywaniami a etykietami dla każdej kolumny: tensor([1.5247, 0.5989, 0.9478, 1.2452])\n",
      "Epoch [30/50], Step [15/15], Loss: 3.1801\n",
      "Liczba błędów przewidywań dla każdej kolumny: tensor([7, 7, 7, 7])\n",
      "Średnia różnica między przewidywaniami a etykietami dla każdej kolumny: tensor([1.4808, 0.7428, 1.0007, 1.1939])\n",
      "Epoch [31/50], Step [15/15], Loss: 3.7471\n",
      "Liczba błędów przewidywań dla każdej kolumny: tensor([7, 7, 7, 7])\n",
      "Średnia różnica między przewidywaniami a etykietami dla każdej kolumny: tensor([1.3609, 0.5210, 0.9970, 1.5200])\n",
      "Epoch [32/50], Step [15/15], Loss: 4.7768\n",
      "Liczba błędów przewidywań dla każdej kolumny: tensor([7, 7, 7, 7])\n",
      "Średnia różnica między przewidywaniami a etykietami dla każdej kolumny: tensor([1.4630, 0.7594, 0.7663, 1.4211])\n",
      "Epoch [33/50], Step [15/15], Loss: 6.0112\n",
      "Liczba błędów przewidywań dla każdej kolumny: tensor([7, 7, 7, 7])\n",
      "Średnia różnica między przewidywaniami a etykietami dla każdej kolumny: tensor([1.5635, 0.7122, 0.9372, 1.1491])\n",
      "Epoch [34/50], Step [15/15], Loss: 5.3989\n",
      "Liczba błędów przewidywań dla każdej kolumny: tensor([7, 7, 7, 7])\n",
      "Średnia różnica między przewidywaniami a etykietami dla każdej kolumny: tensor([1.3438, 0.6894, 1.0623, 1.2761])\n",
      "Epoch [35/50], Step [15/15], Loss: 5.1210\n",
      "Liczba błędów przewidywań dla każdej kolumny: tensor([7, 7, 7, 7])\n",
      "Średnia różnica między przewidywaniami a etykietami dla każdej kolumny: tensor([1.4327, 0.7540, 0.9393, 1.3360])\n",
      "Epoch [36/50], Step [15/15], Loss: 4.3211\n",
      "Liczba błędów przewidywań dla każdej kolumny: tensor([7, 7, 7, 7])\n",
      "Średnia różnica między przewidywaniami a etykietami dla każdej kolumny: tensor([1.4691, 0.6565, 0.9095, 1.2873])\n",
      "Epoch [37/50], Step [15/15], Loss: 2.6673\n",
      "Liczba błędów przewidywań dla każdej kolumny: tensor([7, 7, 7, 7])\n",
      "Średnia różnica między przewidywaniami a etykietami dla każdej kolumny: tensor([1.4325, 0.7254, 1.0425, 1.1567])\n",
      "Epoch [38/50], Step [15/15], Loss: 5.2421\n",
      "Liczba błędów przewidywań dla każdej kolumny: tensor([7, 7, 7, 7])\n",
      "Średnia różnica między przewidywaniami a etykietami dla każdej kolumny: tensor([1.3182, 0.7881, 0.9689, 1.2387])\n",
      "Epoch [39/50], Step [15/15], Loss: 2.9318\n",
      "Liczba błędów przewidywań dla każdej kolumny: tensor([7, 7, 7, 7])\n",
      "Średnia różnica między przewidywaniami a etykietami dla każdej kolumny: tensor([1.4742, 0.7189, 0.7891, 1.5840])\n",
      "Epoch [40/50], Step [15/15], Loss: 4.3724\n",
      "Liczba błędów przewidywań dla każdej kolumny: tensor([7, 7, 7, 7])\n",
      "Średnia różnica między przewidywaniami a etykietami dla każdej kolumny: tensor([1.5105, 0.6594, 0.8795, 1.3957])\n",
      "Epoch [41/50], Step [15/15], Loss: 6.1554\n",
      "Liczba błędów przewidywań dla każdej kolumny: tensor([7, 7, 7, 7])\n",
      "Średnia różnica między przewidywaniami a etykietami dla każdej kolumny: tensor([1.3931, 0.6348, 0.7741, 1.5061])\n",
      "Epoch [42/50], Step [15/15], Loss: 5.0697\n",
      "Liczba błędów przewidywań dla każdej kolumny: tensor([7, 7, 7, 7])\n",
      "Średnia różnica między przewidywaniami a etykietami dla każdej kolumny: tensor([1.5804, 0.6942, 0.8970, 1.1217])\n",
      "Epoch [43/50], Step [15/15], Loss: 3.0838\n",
      "Liczba błędów przewidywań dla każdej kolumny: tensor([7, 7, 7, 7])\n",
      "Średnia różnica między przewidywaniami a etykietami dla każdej kolumny: tensor([1.4260, 0.7020, 0.8365, 1.4142])\n",
      "Epoch [44/50], Step [15/15], Loss: 5.5133\n",
      "Liczba błędów przewidywań dla każdej kolumny: tensor([7, 7, 7, 7])\n",
      "Średnia różnica między przewidywaniami a etykietami dla każdej kolumny: tensor([1.3823, 0.6544, 0.8450, 1.3143])\n",
      "Epoch [45/50], Step [15/15], Loss: 4.7196\n",
      "Liczba błędów przewidywań dla każdej kolumny: tensor([7, 7, 7, 7])\n",
      "Średnia różnica między przewidywaniami a etykietami dla każdej kolumny: tensor([1.4344, 0.6395, 0.7145, 1.3967])\n",
      "Epoch [46/50], Step [15/15], Loss: 5.1760\n",
      "Liczba błędów przewidywań dla każdej kolumny: tensor([7, 7, 7, 7])\n",
      "Średnia różnica między przewidywaniami a etykietami dla każdej kolumny: tensor([1.3392, 0.7026, 1.0308, 1.2358])\n",
      "Epoch [47/50], Step [15/15], Loss: 5.4929\n",
      "Liczba błędów przewidywań dla każdej kolumny: tensor([7, 7, 7, 7])\n",
      "Średnia różnica między przewidywaniami a etykietami dla każdej kolumny: tensor([1.4507, 0.6681, 0.8537, 1.5123])\n",
      "Epoch [48/50], Step [15/15], Loss: 4.6481\n",
      "Liczba błędów przewidywań dla każdej kolumny: tensor([7, 7, 7, 7])\n",
      "Średnia różnica między przewidywaniami a etykietami dla każdej kolumny: tensor([1.4926, 0.5795, 0.7484, 1.6232])\n",
      "Epoch [49/50], Step [15/15], Loss: 4.3601\n",
      "Liczba błędów przewidywań dla każdej kolumny: tensor([7, 7, 7, 7])\n",
      "Średnia różnica między przewidywaniami a etykietami dla każdej kolumny: tensor([1.4041, 0.5512, 0.8917, 1.6394])\n",
      "Epoch [50/50], Step [15/15], Loss: 4.8340\n",
      "Liczba błędów przewidywań dla każdej kolumny: tensor([7, 7, 7, 7])\n",
      "Średnia różnica między przewidywaniami a etykietami dla każdej kolumny: tensor([1.4846, 0.6610, 0.9066, 1.3812])\n"
     ]
    }
   ],
   "source": [
    "best_model = train_loop(model=vgg_model, train_loader=train_loader, valid_loader=val_loader, optimizer=optimizer, criterion=criterion, device=device)"
   ],
   "metadata": {
    "collapsed": false,
    "ExecuteTime": {
     "end_time": "2024-11-05T13:53:29.699023800Z",
     "start_time": "2024-11-05T11:03:10.325664800Z"
    }
   },
   "id": "857d3cf42fe03a76"
  },
  {
   "cell_type": "code",
   "execution_count": null,
   "outputs": [],
   "source": [],
   "metadata": {
    "collapsed": false,
    "ExecuteTime": {
     "start_time": "2024-11-05T11:02:52.539238500Z"
    }
   },
   "id": "dd12f3860711927e"
  },
  {
   "cell_type": "code",
   "execution_count": null,
   "outputs": [],
   "source": [],
   "metadata": {
    "collapsed": false,
    "ExecuteTime": {
     "start_time": "2024-11-05T11:02:52.542238100Z"
    }
   },
   "id": "3ce4b9bd2bae189f"
  },
  {
   "cell_type": "code",
   "execution_count": 124,
   "outputs": [],
   "source": [
    "vgg_model2 = VGG16(num_classes=4).to(device)"
   ],
   "metadata": {
    "collapsed": false,
    "ExecuteTime": {
     "end_time": "2024-11-05T13:53:37.763090400Z",
     "start_time": "2024-11-05T13:53:33.858024500Z"
    }
   },
   "id": "a04c49a374c0c081"
  },
  {
   "cell_type": "code",
   "execution_count": 125,
   "outputs": [],
   "source": [
    "criterion2 = nn.MSELoss()\n",
    "optimizer2 = torch.optim.SGD(vgg_model2.parameters(), lr=learning_rate, weight_decay = 0.005, momentum = 0.9)  "
   ],
   "metadata": {
    "collapsed": false,
    "ExecuteTime": {
     "end_time": "2024-11-05T13:53:40.404362600Z",
     "start_time": "2024-11-05T13:53:37.769126Z"
    }
   },
   "id": "200240a9755ebe46"
  },
  {
   "cell_type": "code",
   "execution_count": 126,
   "outputs": [
    {
     "name": "stdout",
     "output_type": "stream",
     "text": [
      "Epoch [1/50], Step [15/15], Loss: 0.7893\n",
      "Liczba błędów przewidywań dla każdej kolumny: tensor([7, 7, 7, 7])\n",
      "Średnia różnica między przewidywaniami a etykietami dla każdej kolumny: tensor([0.9166, 0.3341, 0.1785, 1.0208])\n",
      "Epoch [2/50], Step [15/15], Loss: 0.2997\n",
      "Liczba błędów przewidywań dla każdej kolumny: tensor([7, 7, 7, 7])\n",
      "Średnia różnica między przewidywaniami a etykietami dla każdej kolumny: tensor([0.8298, 0.2218, 0.3470, 0.8741])\n",
      "Epoch [3/50], Step [15/15], Loss: 0.1829\n",
      "Liczba błędów przewidywań dla każdej kolumny: tensor([7, 7, 7, 7])\n",
      "Średnia różnica między przewidywaniami a etykietami dla każdej kolumny: tensor([0.7061, 0.2225, 0.3287, 1.0717])\n",
      "Epoch [4/50], Step [15/15], Loss: 0.3152\n",
      "Liczba błędów przewidywań dla każdej kolumny: tensor([7, 7, 7, 7])\n",
      "Średnia różnica między przewidywaniami a etykietami dla każdej kolumny: tensor([0.7899, 0.3075, 0.2381, 0.7301])\n",
      "Epoch [5/50], Step [15/15], Loss: 0.1125\n",
      "Liczba błędów przewidywań dla każdej kolumny: tensor([7, 7, 7, 7])\n",
      "Średnia różnica między przewidywaniami a etykietami dla każdej kolumny: tensor([0.7801, 0.2775, 0.1619, 0.7106])\n",
      "Epoch [6/50], Step [15/15], Loss: 0.1272\n",
      "Liczba błędów przewidywań dla każdej kolumny: tensor([7, 7, 7, 7])\n",
      "Średnia różnica między przewidywaniami a etykietami dla każdej kolumny: tensor([0.9506, 0.3042, 0.2441, 0.6247])\n",
      "Epoch [7/50], Step [15/15], Loss: 0.3051\n",
      "Liczba błędów przewidywań dla każdej kolumny: tensor([7, 7, 7, 7])\n",
      "Średnia różnica między przewidywaniami a etykietami dla każdej kolumny: tensor([0.8020, 0.2821, 0.2233, 0.3698])\n",
      "Epoch [8/50], Step [15/15], Loss: 0.1506\n",
      "Liczba błędów przewidywań dla każdej kolumny: tensor([7, 7, 7, 7])\n",
      "Średnia różnica między przewidywaniami a etykietami dla każdej kolumny: tensor([0.9905, 0.1322, 0.2663, 0.3345])\n",
      "Epoch [9/50], Step [15/15], Loss: 0.1693\n",
      "Liczba błędów przewidywań dla każdej kolumny: tensor([7, 7, 7, 7])\n",
      "Średnia różnica między przewidywaniami a etykietami dla każdej kolumny: tensor([1.0243, 0.2092, 0.2383, 0.6158])\n",
      "Epoch [10/50], Step [15/15], Loss: 0.1502\n",
      "Liczba błędów przewidywań dla każdej kolumny: tensor([7, 7, 7, 7])\n",
      "Średnia różnica między przewidywaniami a etykietami dla każdej kolumny: tensor([0.9223, 0.1772, 0.1830, 0.5561])\n",
      "Epoch [11/50], Step [15/15], Loss: 0.0869\n",
      "Liczba błędów przewidywań dla każdej kolumny: tensor([7, 7, 7, 7])\n",
      "Średnia różnica między przewidywaniami a etykietami dla każdej kolumny: tensor([0.8428, 0.2070, 0.1477, 0.5230])\n",
      "Epoch [12/50], Step [15/15], Loss: 0.1021\n",
      "Liczba błędów przewidywań dla każdej kolumny: tensor([7, 7, 7, 7])\n",
      "Średnia różnica między przewidywaniami a etykietami dla każdej kolumny: tensor([0.7853, 0.2244, 0.2221, 0.3719])\n",
      "Epoch [13/50], Step [15/15], Loss: 0.1109\n",
      "Liczba błędów przewidywań dla każdej kolumny: tensor([7, 7, 7, 7])\n",
      "Średnia różnica między przewidywaniami a etykietami dla każdej kolumny: tensor([0.8374, 0.2098, 0.2314, 0.4632])\n",
      "Epoch [14/50], Step [15/15], Loss: 0.0837\n",
      "Liczba błędów przewidywań dla każdej kolumny: tensor([7, 7, 7, 7])\n",
      "Średnia różnica między przewidywaniami a etykietami dla każdej kolumny: tensor([0.8557, 0.2133, 0.1659, 0.3090])\n",
      "Epoch [15/50], Step [15/15], Loss: 0.1751\n",
      "Liczba błędów przewidywań dla każdej kolumny: tensor([7, 7, 7, 7])\n",
      "Średnia różnica między przewidywaniami a etykietami dla każdej kolumny: tensor([0.8964, 0.2208, 0.2452, 0.4157])\n",
      "Epoch [16/50], Step [15/15], Loss: 0.0590\n",
      "Liczba błędów przewidywań dla każdej kolumny: tensor([7, 7, 7, 7])\n",
      "Średnia różnica między przewidywaniami a etykietami dla każdej kolumny: tensor([0.9005, 0.2239, 0.1773, 0.3781])\n",
      "Epoch [17/50], Step [15/15], Loss: 0.0526\n",
      "Liczba błędów przewidywań dla każdej kolumny: tensor([7, 7, 7, 7])\n",
      "Średnia różnica między przewidywaniami a etykietami dla każdej kolumny: tensor([0.7890, 0.2297, 0.1805, 0.3897])\n",
      "Epoch [18/50], Step [15/15], Loss: 0.0650\n",
      "Liczba błędów przewidywań dla każdej kolumny: tensor([7, 7, 7, 7])\n",
      "Średnia różnica między przewidywaniami a etykietami dla każdej kolumny: tensor([0.9439, 0.2072, 0.2684, 0.4031])\n",
      "Epoch [19/50], Step [15/15], Loss: 0.0658\n",
      "Liczba błędów przewidywań dla każdej kolumny: tensor([7, 7, 7, 7])\n",
      "Średnia różnica między przewidywaniami a etykietami dla każdej kolumny: tensor([0.8532, 0.1339, 0.1828, 0.2957])\n",
      "Epoch [20/50], Step [15/15], Loss: 0.0447\n",
      "Liczba błędów przewidywań dla każdej kolumny: tensor([7, 7, 7, 7])\n",
      "Średnia różnica między przewidywaniami a etykietami dla każdej kolumny: tensor([0.8792, 0.2233, 0.1732, 0.2570])\n",
      "Epoch [21/50], Step [15/15], Loss: 0.0526\n",
      "Liczba błędów przewidywań dla każdej kolumny: tensor([7, 7, 7, 7])\n",
      "Średnia różnica między przewidywaniami a etykietami dla każdej kolumny: tensor([0.8201, 0.2519, 0.2437, 0.3563])\n",
      "Epoch [22/50], Step [15/15], Loss: 0.0300\n",
      "Liczba błędów przewidywań dla każdej kolumny: tensor([7, 7, 7, 7])\n",
      "Średnia różnica między przewidywaniami a etykietami dla każdej kolumny: tensor([0.9738, 0.1313, 0.1714, 0.3012])\n",
      "Epoch [23/50], Step [15/15], Loss: 0.1073\n",
      "Liczba błędów przewidywań dla każdej kolumny: tensor([7, 7, 7, 7])\n",
      "Średnia różnica między przewidywaniami a etykietami dla każdej kolumny: tensor([0.7950, 0.1836, 0.1977, 0.3219])\n",
      "Epoch [24/50], Step [15/15], Loss: 0.0461\n",
      "Liczba błędów przewidywań dla każdej kolumny: tensor([7, 7, 7, 7])\n",
      "Średnia różnica między przewidywaniami a etykietami dla każdej kolumny: tensor([0.9002, 0.2039, 0.1897, 0.2997])\n",
      "Epoch [25/50], Step [15/15], Loss: 0.0390\n",
      "Liczba błędów przewidywań dla każdej kolumny: tensor([7, 7, 7, 7])\n",
      "Średnia różnica między przewidywaniami a etykietami dla każdej kolumny: tensor([0.8348, 0.2691, 0.2414, 0.2708])\n",
      "Epoch [26/50], Step [15/15], Loss: 0.0128\n",
      "Liczba błędów przewidywań dla każdej kolumny: tensor([7, 7, 7, 7])\n",
      "Średnia różnica między przewidywaniami a etykietami dla każdej kolumny: tensor([0.9459, 0.2407, 0.2280, 0.3098])\n",
      "Epoch [27/50], Step [15/15], Loss: 0.0340\n",
      "Liczba błędów przewidywań dla każdej kolumny: tensor([7, 7, 7, 7])\n",
      "Średnia różnica między przewidywaniami a etykietami dla każdej kolumny: tensor([0.9155, 0.2100, 0.2345, 0.2122])\n",
      "Epoch [28/50], Step [15/15], Loss: 0.0689\n",
      "Liczba błędów przewidywań dla każdej kolumny: tensor([7, 7, 7, 7])\n",
      "Średnia różnica między przewidywaniami a etykietami dla każdej kolumny: tensor([1.0231, 0.2150, 0.2419, 0.3105])\n",
      "Epoch [29/50], Step [15/15], Loss: 0.0315\n",
      "Liczba błędów przewidywań dla każdej kolumny: tensor([7, 7, 7, 7])\n",
      "Średnia różnica między przewidywaniami a etykietami dla każdej kolumny: tensor([0.8961, 0.2015, 0.2023, 0.2990])\n",
      "Epoch [30/50], Step [15/15], Loss: 0.0375\n",
      "Liczba błędów przewidywań dla każdej kolumny: tensor([7, 7, 7, 7])\n",
      "Średnia różnica między przewidywaniami a etykietami dla każdej kolumny: tensor([0.9159, 0.1761, 0.1955, 0.2946])\n",
      "Epoch [31/50], Step [15/15], Loss: 0.0347\n",
      "Liczba błędów przewidywań dla każdej kolumny: tensor([7, 7, 7, 7])\n",
      "Średnia różnica między przewidywaniami a etykietami dla każdej kolumny: tensor([0.9516, 0.2035, 0.2284, 0.2986])\n",
      "Epoch [32/50], Step [15/15], Loss: 0.0504\n",
      "Liczba błędów przewidywań dla każdej kolumny: tensor([7, 7, 7, 7])\n",
      "Średnia różnica między przewidywaniami a etykietami dla każdej kolumny: tensor([0.9485, 0.2269, 0.2357, 0.2366])\n",
      "Epoch [33/50], Step [15/15], Loss: 0.0312\n",
      "Liczba błędów przewidywań dla każdej kolumny: tensor([7, 7, 7, 7])\n",
      "Średnia różnica między przewidywaniami a etykietami dla każdej kolumny: tensor([0.9781, 0.1737, 0.2927, 0.2488])\n"
     ]
    },
    {
     "ename": "KeyboardInterrupt",
     "evalue": "",
     "output_type": "error",
     "traceback": [
      "\u001B[1;31m---------------------------------------------------------------------------\u001B[0m",
      "\u001B[1;31mKeyboardInterrupt\u001B[0m                         Traceback (most recent call last)",
      "Cell \u001B[1;32mIn[126], line 1\u001B[0m\n\u001B[1;32m----> 1\u001B[0m best_model2 \u001B[38;5;241m=\u001B[39m \u001B[43mtrain_loop\u001B[49m\u001B[43m(\u001B[49m\u001B[43mmodel\u001B[49m\u001B[38;5;241;43m=\u001B[39;49m\u001B[43mvgg_model2\u001B[49m\u001B[43m,\u001B[49m\u001B[43m \u001B[49m\u001B[43mtrain_loader\u001B[49m\u001B[38;5;241;43m=\u001B[39;49m\u001B[43mtrain_loader\u001B[49m\u001B[43m,\u001B[49m\u001B[43m \u001B[49m\u001B[43mvalid_loader\u001B[49m\u001B[38;5;241;43m=\u001B[39;49m\u001B[43mval_loader\u001B[49m\u001B[43m,\u001B[49m\u001B[43m \u001B[49m\u001B[43moptimizer\u001B[49m\u001B[38;5;241;43m=\u001B[39;49m\u001B[43moptimizer2\u001B[49m\u001B[43m,\u001B[49m\u001B[43m \u001B[49m\u001B[43mcriterion\u001B[49m\u001B[38;5;241;43m=\u001B[39;49m\u001B[43mcriterion2\u001B[49m\u001B[43m,\u001B[49m\u001B[43m \u001B[49m\u001B[43mdevice\u001B[49m\u001B[38;5;241;43m=\u001B[39;49m\u001B[43mdevice\u001B[49m\u001B[43m)\u001B[49m\n",
      "File \u001B[1;32m~\\fridge_food\\vgg16_scratch.py:152\u001B[0m, in \u001B[0;36mtrain_loop\u001B[1;34m(model, criterion, optimizer, device, train_loader, valid_loader)\u001B[0m\n\u001B[0;32m    150\u001B[0m images \u001B[38;5;241m=\u001B[39m images\u001B[38;5;241m.\u001B[39mpermute(\u001B[38;5;241m0\u001B[39m, \u001B[38;5;241m3\u001B[39m, \u001B[38;5;241m1\u001B[39m, \u001B[38;5;241m2\u001B[39m)\n\u001B[0;32m    151\u001B[0m \u001B[38;5;66;03m# print(images.shape)\u001B[39;00m\n\u001B[1;32m--> 152\u001B[0m outputs \u001B[38;5;241m=\u001B[39m \u001B[43mmodel\u001B[49m\u001B[43m(\u001B[49m\u001B[43mimages\u001B[49m\u001B[43m)\u001B[49m\n\u001B[0;32m    153\u001B[0m loss \u001B[38;5;241m=\u001B[39m criterion(outputs, labels)\n\u001B[0;32m    155\u001B[0m \u001B[38;5;66;03m# Backward and optimize\u001B[39;00m\n",
      "File \u001B[1;32m~\\fridge_food\\venv\\Lib\\site-packages\\torch\\nn\\modules\\module.py:1736\u001B[0m, in \u001B[0;36mModule._wrapped_call_impl\u001B[1;34m(self, *args, **kwargs)\u001B[0m\n\u001B[0;32m   1734\u001B[0m     \u001B[38;5;28;01mreturn\u001B[39;00m \u001B[38;5;28mself\u001B[39m\u001B[38;5;241m.\u001B[39m_compiled_call_impl(\u001B[38;5;241m*\u001B[39margs, \u001B[38;5;241m*\u001B[39m\u001B[38;5;241m*\u001B[39mkwargs)  \u001B[38;5;66;03m# type: ignore[misc]\u001B[39;00m\n\u001B[0;32m   1735\u001B[0m \u001B[38;5;28;01melse\u001B[39;00m:\n\u001B[1;32m-> 1736\u001B[0m     \u001B[38;5;28;01mreturn\u001B[39;00m \u001B[38;5;28;43mself\u001B[39;49m\u001B[38;5;241;43m.\u001B[39;49m\u001B[43m_call_impl\u001B[49m\u001B[43m(\u001B[49m\u001B[38;5;241;43m*\u001B[39;49m\u001B[43margs\u001B[49m\u001B[43m,\u001B[49m\u001B[43m \u001B[49m\u001B[38;5;241;43m*\u001B[39;49m\u001B[38;5;241;43m*\u001B[39;49m\u001B[43mkwargs\u001B[49m\u001B[43m)\u001B[49m\n",
      "File \u001B[1;32m~\\fridge_food\\venv\\Lib\\site-packages\\torch\\nn\\modules\\module.py:1747\u001B[0m, in \u001B[0;36mModule._call_impl\u001B[1;34m(self, *args, **kwargs)\u001B[0m\n\u001B[0;32m   1742\u001B[0m \u001B[38;5;66;03m# If we don't have any hooks, we want to skip the rest of the logic in\u001B[39;00m\n\u001B[0;32m   1743\u001B[0m \u001B[38;5;66;03m# this function, and just call forward.\u001B[39;00m\n\u001B[0;32m   1744\u001B[0m \u001B[38;5;28;01mif\u001B[39;00m \u001B[38;5;129;01mnot\u001B[39;00m (\u001B[38;5;28mself\u001B[39m\u001B[38;5;241m.\u001B[39m_backward_hooks \u001B[38;5;129;01mor\u001B[39;00m \u001B[38;5;28mself\u001B[39m\u001B[38;5;241m.\u001B[39m_backward_pre_hooks \u001B[38;5;129;01mor\u001B[39;00m \u001B[38;5;28mself\u001B[39m\u001B[38;5;241m.\u001B[39m_forward_hooks \u001B[38;5;129;01mor\u001B[39;00m \u001B[38;5;28mself\u001B[39m\u001B[38;5;241m.\u001B[39m_forward_pre_hooks\n\u001B[0;32m   1745\u001B[0m         \u001B[38;5;129;01mor\u001B[39;00m _global_backward_pre_hooks \u001B[38;5;129;01mor\u001B[39;00m _global_backward_hooks\n\u001B[0;32m   1746\u001B[0m         \u001B[38;5;129;01mor\u001B[39;00m _global_forward_hooks \u001B[38;5;129;01mor\u001B[39;00m _global_forward_pre_hooks):\n\u001B[1;32m-> 1747\u001B[0m     \u001B[38;5;28;01mreturn\u001B[39;00m \u001B[43mforward_call\u001B[49m\u001B[43m(\u001B[49m\u001B[38;5;241;43m*\u001B[39;49m\u001B[43margs\u001B[49m\u001B[43m,\u001B[49m\u001B[43m \u001B[49m\u001B[38;5;241;43m*\u001B[39;49m\u001B[38;5;241;43m*\u001B[39;49m\u001B[43mkwargs\u001B[49m\u001B[43m)\u001B[49m\n\u001B[0;32m   1749\u001B[0m result \u001B[38;5;241m=\u001B[39m \u001B[38;5;28;01mNone\u001B[39;00m\n\u001B[0;32m   1750\u001B[0m called_always_called_hooks \u001B[38;5;241m=\u001B[39m \u001B[38;5;28mset\u001B[39m()\n",
      "File \u001B[1;32m~\\fridge_food\\vgg16_scratch.py:103\u001B[0m, in \u001B[0;36mVGG16.forward\u001B[1;34m(self, x)\u001B[0m\n\u001B[0;32m    101\u001B[0m out \u001B[38;5;241m=\u001B[39m \u001B[38;5;28mself\u001B[39m\u001B[38;5;241m.\u001B[39mlayer4(out)\n\u001B[0;32m    102\u001B[0m out \u001B[38;5;241m=\u001B[39m \u001B[38;5;28mself\u001B[39m\u001B[38;5;241m.\u001B[39mlayer5(out)\n\u001B[1;32m--> 103\u001B[0m out \u001B[38;5;241m=\u001B[39m \u001B[38;5;28;43mself\u001B[39;49m\u001B[38;5;241;43m.\u001B[39;49m\u001B[43mlayer6\u001B[49m\u001B[43m(\u001B[49m\u001B[43mout\u001B[49m\u001B[43m)\u001B[49m\n\u001B[0;32m    104\u001B[0m out \u001B[38;5;241m=\u001B[39m \u001B[38;5;28mself\u001B[39m\u001B[38;5;241m.\u001B[39mlayer7(out)\n\u001B[0;32m    105\u001B[0m out \u001B[38;5;241m=\u001B[39m \u001B[38;5;28mself\u001B[39m\u001B[38;5;241m.\u001B[39mlayer8(out)\n",
      "File \u001B[1;32m~\\fridge_food\\venv\\Lib\\site-packages\\torch\\nn\\modules\\module.py:1736\u001B[0m, in \u001B[0;36mModule._wrapped_call_impl\u001B[1;34m(self, *args, **kwargs)\u001B[0m\n\u001B[0;32m   1734\u001B[0m     \u001B[38;5;28;01mreturn\u001B[39;00m \u001B[38;5;28mself\u001B[39m\u001B[38;5;241m.\u001B[39m_compiled_call_impl(\u001B[38;5;241m*\u001B[39margs, \u001B[38;5;241m*\u001B[39m\u001B[38;5;241m*\u001B[39mkwargs)  \u001B[38;5;66;03m# type: ignore[misc]\u001B[39;00m\n\u001B[0;32m   1735\u001B[0m \u001B[38;5;28;01melse\u001B[39;00m:\n\u001B[1;32m-> 1736\u001B[0m     \u001B[38;5;28;01mreturn\u001B[39;00m \u001B[38;5;28;43mself\u001B[39;49m\u001B[38;5;241;43m.\u001B[39;49m\u001B[43m_call_impl\u001B[49m\u001B[43m(\u001B[49m\u001B[38;5;241;43m*\u001B[39;49m\u001B[43margs\u001B[49m\u001B[43m,\u001B[49m\u001B[43m \u001B[49m\u001B[38;5;241;43m*\u001B[39;49m\u001B[38;5;241;43m*\u001B[39;49m\u001B[43mkwargs\u001B[49m\u001B[43m)\u001B[49m\n",
      "File \u001B[1;32m~\\fridge_food\\venv\\Lib\\site-packages\\torch\\nn\\modules\\module.py:1747\u001B[0m, in \u001B[0;36mModule._call_impl\u001B[1;34m(self, *args, **kwargs)\u001B[0m\n\u001B[0;32m   1742\u001B[0m \u001B[38;5;66;03m# If we don't have any hooks, we want to skip the rest of the logic in\u001B[39;00m\n\u001B[0;32m   1743\u001B[0m \u001B[38;5;66;03m# this function, and just call forward.\u001B[39;00m\n\u001B[0;32m   1744\u001B[0m \u001B[38;5;28;01mif\u001B[39;00m \u001B[38;5;129;01mnot\u001B[39;00m (\u001B[38;5;28mself\u001B[39m\u001B[38;5;241m.\u001B[39m_backward_hooks \u001B[38;5;129;01mor\u001B[39;00m \u001B[38;5;28mself\u001B[39m\u001B[38;5;241m.\u001B[39m_backward_pre_hooks \u001B[38;5;129;01mor\u001B[39;00m \u001B[38;5;28mself\u001B[39m\u001B[38;5;241m.\u001B[39m_forward_hooks \u001B[38;5;129;01mor\u001B[39;00m \u001B[38;5;28mself\u001B[39m\u001B[38;5;241m.\u001B[39m_forward_pre_hooks\n\u001B[0;32m   1745\u001B[0m         \u001B[38;5;129;01mor\u001B[39;00m _global_backward_pre_hooks \u001B[38;5;129;01mor\u001B[39;00m _global_backward_hooks\n\u001B[0;32m   1746\u001B[0m         \u001B[38;5;129;01mor\u001B[39;00m _global_forward_hooks \u001B[38;5;129;01mor\u001B[39;00m _global_forward_pre_hooks):\n\u001B[1;32m-> 1747\u001B[0m     \u001B[38;5;28;01mreturn\u001B[39;00m \u001B[43mforward_call\u001B[49m\u001B[43m(\u001B[49m\u001B[38;5;241;43m*\u001B[39;49m\u001B[43margs\u001B[49m\u001B[43m,\u001B[49m\u001B[43m \u001B[49m\u001B[38;5;241;43m*\u001B[39;49m\u001B[38;5;241;43m*\u001B[39;49m\u001B[43mkwargs\u001B[49m\u001B[43m)\u001B[49m\n\u001B[0;32m   1749\u001B[0m result \u001B[38;5;241m=\u001B[39m \u001B[38;5;28;01mNone\u001B[39;00m\n\u001B[0;32m   1750\u001B[0m called_always_called_hooks \u001B[38;5;241m=\u001B[39m \u001B[38;5;28mset\u001B[39m()\n",
      "File \u001B[1;32m~\\fridge_food\\venv\\Lib\\site-packages\\torch\\nn\\modules\\container.py:250\u001B[0m, in \u001B[0;36mSequential.forward\u001B[1;34m(self, input)\u001B[0m\n\u001B[0;32m    248\u001B[0m \u001B[38;5;28;01mdef\u001B[39;00m \u001B[38;5;21mforward\u001B[39m(\u001B[38;5;28mself\u001B[39m, \u001B[38;5;28minput\u001B[39m):\n\u001B[0;32m    249\u001B[0m     \u001B[38;5;28;01mfor\u001B[39;00m module \u001B[38;5;129;01min\u001B[39;00m \u001B[38;5;28mself\u001B[39m:\n\u001B[1;32m--> 250\u001B[0m         \u001B[38;5;28minput\u001B[39m \u001B[38;5;241m=\u001B[39m \u001B[43mmodule\u001B[49m\u001B[43m(\u001B[49m\u001B[38;5;28;43minput\u001B[39;49m\u001B[43m)\u001B[49m\n\u001B[0;32m    251\u001B[0m     \u001B[38;5;28;01mreturn\u001B[39;00m \u001B[38;5;28minput\u001B[39m\n",
      "File \u001B[1;32m~\\fridge_food\\venv\\Lib\\site-packages\\torch\\nn\\modules\\module.py:1736\u001B[0m, in \u001B[0;36mModule._wrapped_call_impl\u001B[1;34m(self, *args, **kwargs)\u001B[0m\n\u001B[0;32m   1734\u001B[0m     \u001B[38;5;28;01mreturn\u001B[39;00m \u001B[38;5;28mself\u001B[39m\u001B[38;5;241m.\u001B[39m_compiled_call_impl(\u001B[38;5;241m*\u001B[39margs, \u001B[38;5;241m*\u001B[39m\u001B[38;5;241m*\u001B[39mkwargs)  \u001B[38;5;66;03m# type: ignore[misc]\u001B[39;00m\n\u001B[0;32m   1735\u001B[0m \u001B[38;5;28;01melse\u001B[39;00m:\n\u001B[1;32m-> 1736\u001B[0m     \u001B[38;5;28;01mreturn\u001B[39;00m \u001B[38;5;28;43mself\u001B[39;49m\u001B[38;5;241;43m.\u001B[39;49m\u001B[43m_call_impl\u001B[49m\u001B[43m(\u001B[49m\u001B[38;5;241;43m*\u001B[39;49m\u001B[43margs\u001B[49m\u001B[43m,\u001B[49m\u001B[43m \u001B[49m\u001B[38;5;241;43m*\u001B[39;49m\u001B[38;5;241;43m*\u001B[39;49m\u001B[43mkwargs\u001B[49m\u001B[43m)\u001B[49m\n",
      "File \u001B[1;32m~\\fridge_food\\venv\\Lib\\site-packages\\torch\\nn\\modules\\module.py:1747\u001B[0m, in \u001B[0;36mModule._call_impl\u001B[1;34m(self, *args, **kwargs)\u001B[0m\n\u001B[0;32m   1742\u001B[0m \u001B[38;5;66;03m# If we don't have any hooks, we want to skip the rest of the logic in\u001B[39;00m\n\u001B[0;32m   1743\u001B[0m \u001B[38;5;66;03m# this function, and just call forward.\u001B[39;00m\n\u001B[0;32m   1744\u001B[0m \u001B[38;5;28;01mif\u001B[39;00m \u001B[38;5;129;01mnot\u001B[39;00m (\u001B[38;5;28mself\u001B[39m\u001B[38;5;241m.\u001B[39m_backward_hooks \u001B[38;5;129;01mor\u001B[39;00m \u001B[38;5;28mself\u001B[39m\u001B[38;5;241m.\u001B[39m_backward_pre_hooks \u001B[38;5;129;01mor\u001B[39;00m \u001B[38;5;28mself\u001B[39m\u001B[38;5;241m.\u001B[39m_forward_hooks \u001B[38;5;129;01mor\u001B[39;00m \u001B[38;5;28mself\u001B[39m\u001B[38;5;241m.\u001B[39m_forward_pre_hooks\n\u001B[0;32m   1745\u001B[0m         \u001B[38;5;129;01mor\u001B[39;00m _global_backward_pre_hooks \u001B[38;5;129;01mor\u001B[39;00m _global_backward_hooks\n\u001B[0;32m   1746\u001B[0m         \u001B[38;5;129;01mor\u001B[39;00m _global_forward_hooks \u001B[38;5;129;01mor\u001B[39;00m _global_forward_pre_hooks):\n\u001B[1;32m-> 1747\u001B[0m     \u001B[38;5;28;01mreturn\u001B[39;00m \u001B[43mforward_call\u001B[49m\u001B[43m(\u001B[49m\u001B[38;5;241;43m*\u001B[39;49m\u001B[43margs\u001B[49m\u001B[43m,\u001B[49m\u001B[43m \u001B[49m\u001B[38;5;241;43m*\u001B[39;49m\u001B[38;5;241;43m*\u001B[39;49m\u001B[43mkwargs\u001B[49m\u001B[43m)\u001B[49m\n\u001B[0;32m   1749\u001B[0m result \u001B[38;5;241m=\u001B[39m \u001B[38;5;28;01mNone\u001B[39;00m\n\u001B[0;32m   1750\u001B[0m called_always_called_hooks \u001B[38;5;241m=\u001B[39m \u001B[38;5;28mset\u001B[39m()\n",
      "File \u001B[1;32m~\\fridge_food\\venv\\Lib\\site-packages\\torch\\nn\\modules\\conv.py:554\u001B[0m, in \u001B[0;36mConv2d.forward\u001B[1;34m(self, input)\u001B[0m\n\u001B[0;32m    553\u001B[0m \u001B[38;5;28;01mdef\u001B[39;00m \u001B[38;5;21mforward\u001B[39m(\u001B[38;5;28mself\u001B[39m, \u001B[38;5;28minput\u001B[39m: Tensor) \u001B[38;5;241m-\u001B[39m\u001B[38;5;241m>\u001B[39m Tensor:\n\u001B[1;32m--> 554\u001B[0m     \u001B[38;5;28;01mreturn\u001B[39;00m \u001B[38;5;28;43mself\u001B[39;49m\u001B[38;5;241;43m.\u001B[39;49m\u001B[43m_conv_forward\u001B[49m\u001B[43m(\u001B[49m\u001B[38;5;28;43minput\u001B[39;49m\u001B[43m,\u001B[49m\u001B[43m \u001B[49m\u001B[38;5;28;43mself\u001B[39;49m\u001B[38;5;241;43m.\u001B[39;49m\u001B[43mweight\u001B[49m\u001B[43m,\u001B[49m\u001B[43m \u001B[49m\u001B[38;5;28;43mself\u001B[39;49m\u001B[38;5;241;43m.\u001B[39;49m\u001B[43mbias\u001B[49m\u001B[43m)\u001B[49m\n",
      "File \u001B[1;32m~\\fridge_food\\venv\\Lib\\site-packages\\torch\\nn\\modules\\conv.py:549\u001B[0m, in \u001B[0;36mConv2d._conv_forward\u001B[1;34m(self, input, weight, bias)\u001B[0m\n\u001B[0;32m    537\u001B[0m \u001B[38;5;28;01mif\u001B[39;00m \u001B[38;5;28mself\u001B[39m\u001B[38;5;241m.\u001B[39mpadding_mode \u001B[38;5;241m!=\u001B[39m \u001B[38;5;124m\"\u001B[39m\u001B[38;5;124mzeros\u001B[39m\u001B[38;5;124m\"\u001B[39m:\n\u001B[0;32m    538\u001B[0m     \u001B[38;5;28;01mreturn\u001B[39;00m F\u001B[38;5;241m.\u001B[39mconv2d(\n\u001B[0;32m    539\u001B[0m         F\u001B[38;5;241m.\u001B[39mpad(\n\u001B[0;32m    540\u001B[0m             \u001B[38;5;28minput\u001B[39m, \u001B[38;5;28mself\u001B[39m\u001B[38;5;241m.\u001B[39m_reversed_padding_repeated_twice, mode\u001B[38;5;241m=\u001B[39m\u001B[38;5;28mself\u001B[39m\u001B[38;5;241m.\u001B[39mpadding_mode\n\u001B[1;32m   (...)\u001B[0m\n\u001B[0;32m    547\u001B[0m         \u001B[38;5;28mself\u001B[39m\u001B[38;5;241m.\u001B[39mgroups,\n\u001B[0;32m    548\u001B[0m     )\n\u001B[1;32m--> 549\u001B[0m \u001B[38;5;28;01mreturn\u001B[39;00m \u001B[43mF\u001B[49m\u001B[38;5;241;43m.\u001B[39;49m\u001B[43mconv2d\u001B[49m\u001B[43m(\u001B[49m\n\u001B[0;32m    550\u001B[0m \u001B[43m    \u001B[49m\u001B[38;5;28;43minput\u001B[39;49m\u001B[43m,\u001B[49m\u001B[43m \u001B[49m\u001B[43mweight\u001B[49m\u001B[43m,\u001B[49m\u001B[43m \u001B[49m\u001B[43mbias\u001B[49m\u001B[43m,\u001B[49m\u001B[43m \u001B[49m\u001B[38;5;28;43mself\u001B[39;49m\u001B[38;5;241;43m.\u001B[39;49m\u001B[43mstride\u001B[49m\u001B[43m,\u001B[49m\u001B[43m \u001B[49m\u001B[38;5;28;43mself\u001B[39;49m\u001B[38;5;241;43m.\u001B[39;49m\u001B[43mpadding\u001B[49m\u001B[43m,\u001B[49m\u001B[43m \u001B[49m\u001B[38;5;28;43mself\u001B[39;49m\u001B[38;5;241;43m.\u001B[39;49m\u001B[43mdilation\u001B[49m\u001B[43m,\u001B[49m\u001B[43m \u001B[49m\u001B[38;5;28;43mself\u001B[39;49m\u001B[38;5;241;43m.\u001B[39;49m\u001B[43mgroups\u001B[49m\n\u001B[0;32m    551\u001B[0m \u001B[43m\u001B[49m\u001B[43m)\u001B[49m\n",
      "\u001B[1;31mKeyboardInterrupt\u001B[0m: "
     ]
    }
   ],
   "source": [
    "best_model2 = train_loop(model=vgg_model2, train_loader=train_loader, valid_loader=val_loader, optimizer=optimizer2, criterion=criterion2, device=device)"
   ],
   "metadata": {
    "collapsed": false,
    "ExecuteTime": {
     "end_time": "2024-11-05T15:52:50.126752100Z",
     "start_time": "2024-11-05T13:53:40.411369300Z"
    }
   },
   "id": "4a43455759b5133b"
  },
  {
   "cell_type": "code",
   "execution_count": null,
   "outputs": [],
   "source": [],
   "metadata": {
    "collapsed": false
   },
   "id": "6295e3ca17462e7a"
  }
 ],
 "metadata": {
  "kernelspec": {
   "display_name": "Python 3",
   "language": "python",
   "name": "python3"
  },
  "language_info": {
   "codemirror_mode": {
    "name": "ipython",
    "version": 2
   },
   "file_extension": ".py",
   "mimetype": "text/x-python",
   "name": "python",
   "nbconvert_exporter": "python",
   "pygments_lexer": "ipython2",
   "version": "2.7.6"
  }
 },
 "nbformat": 4,
 "nbformat_minor": 5
}
