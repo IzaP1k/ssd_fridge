{
 "cells": [
  {
   "cell_type": "markdown",
   "source": [
    "# Packages"
   ],
   "metadata": {
    "collapsed": false
   },
   "id": "36633c1ac68609f5"
  },
  {
   "cell_type": "code",
   "execution_count": 1,
   "outputs": [],
   "source": [
    "from model_cnn_func import add_image_column\n",
    "import pandas as pd\n",
    "import torch\n",
    "from model_cnn_func import split_tensor_data, Simple_CNN, train"
   ],
   "metadata": {
    "collapsed": false,
    "ExecuteTime": {
     "end_time": "2024-10-28T08:51:59.101247600Z",
     "start_time": "2024-10-28T08:51:47.659442100Z"
    }
   },
   "id": "5a6c4fb127d4bd18"
  },
  {
   "cell_type": "code",
   "execution_count": 2,
   "outputs": [],
   "source": [
    "%load_ext autoreload\n",
    "%autoreload 2\n",
    "%reload_ext autoreload"
   ],
   "metadata": {
    "collapsed": false,
    "ExecuteTime": {
     "end_time": "2024-10-28T08:51:59.366892Z",
     "start_time": "2024-10-28T08:51:59.103434500Z"
    }
   },
   "id": "ee44a77273cabe12"
  },
  {
   "cell_type": "markdown",
   "source": [
    "# Get annotation"
   ],
   "metadata": {
    "collapsed": false
   },
   "id": "effd48297519f7f0"
  },
  {
   "cell_type": "code",
   "execution_count": 3,
   "outputs": [],
   "source": [
    "df = pd.read_csv(fr\"C:\\Users\\izaol\\fridge_food\\jedzenie\\train\\_annotations.csv\")"
   ],
   "metadata": {
    "collapsed": false,
    "ExecuteTime": {
     "end_time": "2024-10-24T08:46:21.607554500Z",
     "start_time": "2024-10-24T08:46:21.462411800Z"
    }
   },
   "id": "b981835c628fa418"
  },
  {
   "cell_type": "code",
   "execution_count": 4,
   "outputs": [],
   "source": [
    "annotation_train = df.groupby('filename').size().reset_index(name='contains_object')"
   ],
   "metadata": {
    "collapsed": false,
    "ExecuteTime": {
     "end_time": "2024-10-24T08:46:21.747687600Z",
     "start_time": "2024-10-24T08:46:21.604554900Z"
    }
   },
   "id": "6e75205860a45caa"
  },
  {
   "cell_type": "code",
   "execution_count": 5,
   "outputs": [],
   "source": [
    "df = pd.read_csv(fr\"C:\\Users\\izaol\\fridge_food\\jedzenie\\valid\\_annotations.csv\")"
   ],
   "metadata": {
    "collapsed": false,
    "ExecuteTime": {
     "end_time": "2024-10-24T08:46:21.878621700Z",
     "start_time": "2024-10-24T08:46:21.741455Z"
    }
   },
   "id": "116413d1496eba2a"
  },
  {
   "cell_type": "code",
   "execution_count": 6,
   "outputs": [],
   "source": [
    "annotation_valid = df.groupby('filename').size().reset_index(name='contains_object')"
   ],
   "metadata": {
    "collapsed": false,
    "ExecuteTime": {
     "end_time": "2024-10-24T08:46:22.020569400Z",
     "start_time": "2024-10-24T08:46:21.879618600Z"
    }
   },
   "id": "4840f2ba71c65eff"
  },
  {
   "cell_type": "code",
   "execution_count": 7,
   "outputs": [],
   "source": [
    "df = pd.read_csv(fr\"C:\\Users\\izaol\\fridge_food\\jedzenie\\test\\_annotations.csv\")"
   ],
   "metadata": {
    "collapsed": false,
    "ExecuteTime": {
     "end_time": "2024-10-24T08:46:22.160556800Z",
     "start_time": "2024-10-24T08:46:22.016569600Z"
    }
   },
   "id": "e37e24911dec3f47"
  },
  {
   "cell_type": "code",
   "execution_count": 8,
   "outputs": [],
   "source": [
    "annotation_test = df.groupby('filename').size().reset_index(name='contains_object')"
   ],
   "metadata": {
    "collapsed": false,
    "ExecuteTime": {
     "end_time": "2024-10-24T08:46:22.294906Z",
     "start_time": "2024-10-24T08:46:22.156559500Z"
    }
   },
   "id": "3f7a28b096304700"
  },
  {
   "cell_type": "markdown",
   "source": [
    "# Add new column"
   ],
   "metadata": {
    "collapsed": false
   },
   "id": "8b55f8b994047252"
  },
  {
   "cell_type": "code",
   "execution_count": 9,
   "outputs": [],
   "source": [
    "annotation_train = add_image_column(annotation_train, fr\"C:\\Users\\izaol\\fridge_food\\jedzenie\\train\\edit\\sobel\", 'sobel')"
   ],
   "metadata": {
    "collapsed": false,
    "ExecuteTime": {
     "end_time": "2024-10-24T08:46:23.276423600Z",
     "start_time": "2024-10-24T08:46:22.296904300Z"
    }
   },
   "id": "a365dcf4ba2cac9"
  },
  {
   "cell_type": "code",
   "execution_count": 10,
   "outputs": [],
   "source": [
    "annotation_valid = add_image_column(annotation_valid, fr\"C:\\Users\\izaol\\fridge_food\\jedzenie\\valid\\edit\\sobel\", 'sobel')"
   ],
   "metadata": {
    "collapsed": false,
    "ExecuteTime": {
     "end_time": "2024-10-24T08:46:23.544465600Z",
     "start_time": "2024-10-24T08:46:23.279425500Z"
    }
   },
   "id": "5a6a1bb2a1ad1337"
  },
  {
   "cell_type": "code",
   "execution_count": 11,
   "outputs": [],
   "source": [
    "annotation_test = add_image_column(annotation_test, fr\"C:\\Users\\izaol\\fridge_food\\jedzenie\\test\\edit\\sobel\", 'sobel')"
   ],
   "metadata": {
    "collapsed": false,
    "ExecuteTime": {
     "end_time": "2024-10-24T08:46:23.708878800Z",
     "start_time": "2024-10-24T08:46:23.546466400Z"
    }
   },
   "id": "29ffded21bc8c2d5"
  },
  {
   "cell_type": "code",
   "execution_count": 12,
   "outputs": [
    {
     "data": {
      "text/plain": "                                             filename  contains_object  \\\n0   20241012_191311-1-_jpg.rf.a4a21127bb0b6abf2e3b...                6   \n1   20241012_191311-1-_jpg.rf.cd73210dee3971e2324d...                6   \n2   20241012_191316_jpg.rf.60d6f390c23e8cb9b86842b...                6   \n3   20241012_191316_jpg.rf.df42846a875ab72b7f9b6b6...                6   \n4   20241012_191320_jpg.rf.7bfbd290822cae4ff7b8df6...               17   \n5   20241012_191320_jpg.rf.b8e6d56df31bc10594d3f45...               17   \n6   20241012_191323_jpg.rf.3b08f7d894c12acceef2d3c...                3   \n7   20241012_191323_jpg.rf.ca9a73f51a78e29d8744a89...                3   \n8   20241012_191329-1-_jpg.rf.76a68cb464bb1a300c83...                5   \n9   20241012_191329-1-_jpg.rf.fd8700668c50f60c9d17...                5   \n10  20241020_170209_jpg.rf.b6749a42cca28dd1491c9a7...               13   \n11  20241020_170209_jpg.rf.ca7714d2156d3fa45ab3e3f...               13   \n12  20241020_170229_jpg.rf.20e191bab86bdc8a9134435...               10   \n13  20241020_170229_jpg.rf.d4cd52d88468c0f7f966a37...               10   \n14  20241020_170233_jpg.rf.237e3ee39d286e69916c180...               11   \n15  20241020_170233_jpg.rf.69bf65e1c232816d937929b...               11   \n16  IMG-20241016-WA0010_jpg.rf.4a550197d17f9b34b01...               15   \n17  IMG-20241016-WA0010_jpg.rf.cb507e926bf6ad9fcee...               15   \n18  IMG_6348-1-_JPG.rf.20d02b556b3acd16b2edc290102...                9   \n19  IMG_6348-1-_JPG.rf.31be9ba29f2d69a41c803ec86df...                9   \n20  IMG_6357_JPG.rf.5ba124acdcac2e15b620376a6a5348...               12   \n21  IMG_6357_JPG.rf.866c078dc830df38b9ec2bb441ba28...               12   \n22  IMG_6363_JPG.rf.84c6a50356c5bb1103fedad84e283b...               10   \n23  IMG_6363_JPG.rf.a3a457eae34a1c542244e601db0515...               10   \n24  IMG_6390_JPG.rf.562f079af1fe9fd1c10d8f72b015b5...                7   \n25  IMG_6390_JPG.rf.e1a283f48e40d3e34a70c475ed5258...                7   \n26  IMG_6393_JPG.rf.be0f2c550570dc78c3001a17cb9b23...                9   \n27  IMG_6393_JPG.rf.bfe0e7ff7b86627959024830558517...                9   \n28  IMG_6398_JPG.rf.253314d6fd386880c10b739970e858...                8   \n29  IMG_6398_JPG.rf.d843965199f172191fdeef780721e2...                8   \n30  IMG_6401_JPG.rf.91a9c7c0c67302d1a8a3b9dc1949bc...                4   \n31  IMG_6401_JPG.rf.ae3c2f412fd00650a1eb0d7262853c...                4   \n32  IMG_6411_JPG.rf.1342cc87e320b31d1b48ecc95f1ded...               11   \n33  IMG_6411_JPG.rf.cfb966c19582e4475cb33d9c39a8d1...               11   \n34  IMG_6413_JPG.rf.05f306c125b018758b84156db707a0...               10   \n35  IMG_6413_JPG.rf.39133c5c0b68cc718e266b9f8a9445...               10   \n36  IMG_6419_JPG.rf.93117b865ac7a80903abbc96b3b11b...                8   \n37  IMG_6419_JPG.rf.f7aa78321e861e2e1dc3b1571f4885...                8   \n\n                                                image  \n0   [[[0, 0, 0], [0, 0, 0], [0, 0, 0], [0, 0, 0], ...  \n1   [[[0, 0, 0], [0, 0, 0], [0, 0, 0], [0, 0, 0], ...  \n2   [[[0, 0, 0], [0, 0, 0], [0, 0, 0], [0, 0, 0], ...  \n3   [[[0, 0, 0], [0, 0, 0], [0, 0, 0], [0, 0, 0], ...  \n4   [[[0, 0, 0], [0, 0, 0], [0, 0, 0], [0, 0, 0], ...  \n5   [[[0, 0, 0], [0, 0, 0], [0, 0, 0], [0, 0, 0], ...  \n6   [[[0, 0, 0], [0, 0, 0], [0, 0, 0], [0, 0, 0], ...  \n7   [[[0, 0, 0], [0, 0, 0], [0, 0, 0], [0, 0, 0], ...  \n8   [[[0, 0, 0], [0, 0, 0], [0, 0, 0], [0, 0, 0], ...  \n9   [[[0, 0, 0], [0, 0, 0], [0, 0, 0], [0, 0, 0], ...  \n10  [[[0, 0, 0], [0, 0, 0], [0, 0, 0], [0, 0, 0], ...  \n11  [[[0, 0, 0], [0, 0, 0], [0, 0, 0], [0, 0, 0], ...  \n12  [[[0, 0, 0], [0, 0, 0], [0, 0, 0], [0, 0, 0], ...  \n13  [[[0, 0, 0], [0, 0, 0], [0, 0, 0], [0, 0, 0], ...  \n14  [[[0, 0, 0], [0, 0, 0], [0, 0, 0], [0, 0, 0], ...  \n15  [[[0, 0, 0], [0, 0, 0], [0, 0, 0], [0, 0, 0], ...  \n16  [[[0, 0, 0], [0, 0, 0], [0, 0, 0], [0, 0, 0], ...  \n17  [[[0, 0, 0], [0, 0, 0], [0, 0, 0], [0, 0, 0], ...  \n18  [[[0, 0, 0], [0, 0, 0], [0, 0, 0], [0, 0, 0], ...  \n19  [[[0, 0, 0], [0, 0, 0], [0, 0, 0], [0, 0, 0], ...  \n20  [[[0, 0, 0], [0, 0, 0], [0, 0, 0], [0, 0, 0], ...  \n21  [[[0, 0, 0], [0, 0, 0], [0, 0, 0], [0, 0, 0], ...  \n22  [[[0, 0, 0], [0, 0, 0], [0, 0, 0], [0, 0, 0], ...  \n23  [[[0, 0, 0], [0, 0, 0], [0, 0, 0], [0, 0, 0], ...  \n24  [[[0, 0, 0], [0, 0, 0], [0, 0, 0], [0, 0, 0], ...  \n25  [[[0, 0, 0], [0, 0, 0], [0, 0, 0], [0, 0, 0], ...  \n26  [[[0, 0, 0], [0, 0, 0], [0, 0, 0], [0, 0, 0], ...  \n27  [[[0, 0, 0], [0, 0, 0], [0, 0, 0], [0, 0, 0], ...  \n28  [[[0, 0, 0], [0, 0, 0], [0, 0, 0], [0, 0, 0], ...  \n29  [[[0, 0, 0], [0, 0, 0], [0, 0, 0], [0, 0, 0], ...  \n30  [[[0, 0, 0], [0, 0, 0], [0, 0, 0], [0, 0, 0], ...  \n31  [[[0, 0, 0], [0, 0, 0], [0, 0, 0], [0, 0, 0], ...  \n32  [[[0, 0, 0], [0, 0, 0], [0, 0, 0], [0, 0, 0], ...  \n33  [[[0, 0, 0], [0, 0, 0], [0, 0, 0], [0, 0, 0], ...  \n34  [[[0, 0, 0], [0, 0, 0], [0, 0, 0], [0, 0, 0], ...  \n35  [[[0, 0, 0], [0, 0, 0], [0, 0, 0], [0, 0, 0], ...  \n36  [[[0, 0, 0], [0, 0, 0], [0, 0, 0], [0, 0, 0], ...  \n37  [[[0, 0, 0], [0, 0, 0], [0, 0, 0], [0, 0, 0], ...  ",
      "text/html": "<div>\n<style scoped>\n    .dataframe tbody tr th:only-of-type {\n        vertical-align: middle;\n    }\n\n    .dataframe tbody tr th {\n        vertical-align: top;\n    }\n\n    .dataframe thead th {\n        text-align: right;\n    }\n</style>\n<table border=\"1\" class=\"dataframe\">\n  <thead>\n    <tr style=\"text-align: right;\">\n      <th></th>\n      <th>filename</th>\n      <th>contains_object</th>\n      <th>image</th>\n    </tr>\n  </thead>\n  <tbody>\n    <tr>\n      <th>0</th>\n      <td>20241012_191311-1-_jpg.rf.a4a21127bb0b6abf2e3b...</td>\n      <td>6</td>\n      <td>[[[0, 0, 0], [0, 0, 0], [0, 0, 0], [0, 0, 0], ...</td>\n    </tr>\n    <tr>\n      <th>1</th>\n      <td>20241012_191311-1-_jpg.rf.cd73210dee3971e2324d...</td>\n      <td>6</td>\n      <td>[[[0, 0, 0], [0, 0, 0], [0, 0, 0], [0, 0, 0], ...</td>\n    </tr>\n    <tr>\n      <th>2</th>\n      <td>20241012_191316_jpg.rf.60d6f390c23e8cb9b86842b...</td>\n      <td>6</td>\n      <td>[[[0, 0, 0], [0, 0, 0], [0, 0, 0], [0, 0, 0], ...</td>\n    </tr>\n    <tr>\n      <th>3</th>\n      <td>20241012_191316_jpg.rf.df42846a875ab72b7f9b6b6...</td>\n      <td>6</td>\n      <td>[[[0, 0, 0], [0, 0, 0], [0, 0, 0], [0, 0, 0], ...</td>\n    </tr>\n    <tr>\n      <th>4</th>\n      <td>20241012_191320_jpg.rf.7bfbd290822cae4ff7b8df6...</td>\n      <td>17</td>\n      <td>[[[0, 0, 0], [0, 0, 0], [0, 0, 0], [0, 0, 0], ...</td>\n    </tr>\n    <tr>\n      <th>5</th>\n      <td>20241012_191320_jpg.rf.b8e6d56df31bc10594d3f45...</td>\n      <td>17</td>\n      <td>[[[0, 0, 0], [0, 0, 0], [0, 0, 0], [0, 0, 0], ...</td>\n    </tr>\n    <tr>\n      <th>6</th>\n      <td>20241012_191323_jpg.rf.3b08f7d894c12acceef2d3c...</td>\n      <td>3</td>\n      <td>[[[0, 0, 0], [0, 0, 0], [0, 0, 0], [0, 0, 0], ...</td>\n    </tr>\n    <tr>\n      <th>7</th>\n      <td>20241012_191323_jpg.rf.ca9a73f51a78e29d8744a89...</td>\n      <td>3</td>\n      <td>[[[0, 0, 0], [0, 0, 0], [0, 0, 0], [0, 0, 0], ...</td>\n    </tr>\n    <tr>\n      <th>8</th>\n      <td>20241012_191329-1-_jpg.rf.76a68cb464bb1a300c83...</td>\n      <td>5</td>\n      <td>[[[0, 0, 0], [0, 0, 0], [0, 0, 0], [0, 0, 0], ...</td>\n    </tr>\n    <tr>\n      <th>9</th>\n      <td>20241012_191329-1-_jpg.rf.fd8700668c50f60c9d17...</td>\n      <td>5</td>\n      <td>[[[0, 0, 0], [0, 0, 0], [0, 0, 0], [0, 0, 0], ...</td>\n    </tr>\n    <tr>\n      <th>10</th>\n      <td>20241020_170209_jpg.rf.b6749a42cca28dd1491c9a7...</td>\n      <td>13</td>\n      <td>[[[0, 0, 0], [0, 0, 0], [0, 0, 0], [0, 0, 0], ...</td>\n    </tr>\n    <tr>\n      <th>11</th>\n      <td>20241020_170209_jpg.rf.ca7714d2156d3fa45ab3e3f...</td>\n      <td>13</td>\n      <td>[[[0, 0, 0], [0, 0, 0], [0, 0, 0], [0, 0, 0], ...</td>\n    </tr>\n    <tr>\n      <th>12</th>\n      <td>20241020_170229_jpg.rf.20e191bab86bdc8a9134435...</td>\n      <td>10</td>\n      <td>[[[0, 0, 0], [0, 0, 0], [0, 0, 0], [0, 0, 0], ...</td>\n    </tr>\n    <tr>\n      <th>13</th>\n      <td>20241020_170229_jpg.rf.d4cd52d88468c0f7f966a37...</td>\n      <td>10</td>\n      <td>[[[0, 0, 0], [0, 0, 0], [0, 0, 0], [0, 0, 0], ...</td>\n    </tr>\n    <tr>\n      <th>14</th>\n      <td>20241020_170233_jpg.rf.237e3ee39d286e69916c180...</td>\n      <td>11</td>\n      <td>[[[0, 0, 0], [0, 0, 0], [0, 0, 0], [0, 0, 0], ...</td>\n    </tr>\n    <tr>\n      <th>15</th>\n      <td>20241020_170233_jpg.rf.69bf65e1c232816d937929b...</td>\n      <td>11</td>\n      <td>[[[0, 0, 0], [0, 0, 0], [0, 0, 0], [0, 0, 0], ...</td>\n    </tr>\n    <tr>\n      <th>16</th>\n      <td>IMG-20241016-WA0010_jpg.rf.4a550197d17f9b34b01...</td>\n      <td>15</td>\n      <td>[[[0, 0, 0], [0, 0, 0], [0, 0, 0], [0, 0, 0], ...</td>\n    </tr>\n    <tr>\n      <th>17</th>\n      <td>IMG-20241016-WA0010_jpg.rf.cb507e926bf6ad9fcee...</td>\n      <td>15</td>\n      <td>[[[0, 0, 0], [0, 0, 0], [0, 0, 0], [0, 0, 0], ...</td>\n    </tr>\n    <tr>\n      <th>18</th>\n      <td>IMG_6348-1-_JPG.rf.20d02b556b3acd16b2edc290102...</td>\n      <td>9</td>\n      <td>[[[0, 0, 0], [0, 0, 0], [0, 0, 0], [0, 0, 0], ...</td>\n    </tr>\n    <tr>\n      <th>19</th>\n      <td>IMG_6348-1-_JPG.rf.31be9ba29f2d69a41c803ec86df...</td>\n      <td>9</td>\n      <td>[[[0, 0, 0], [0, 0, 0], [0, 0, 0], [0, 0, 0], ...</td>\n    </tr>\n    <tr>\n      <th>20</th>\n      <td>IMG_6357_JPG.rf.5ba124acdcac2e15b620376a6a5348...</td>\n      <td>12</td>\n      <td>[[[0, 0, 0], [0, 0, 0], [0, 0, 0], [0, 0, 0], ...</td>\n    </tr>\n    <tr>\n      <th>21</th>\n      <td>IMG_6357_JPG.rf.866c078dc830df38b9ec2bb441ba28...</td>\n      <td>12</td>\n      <td>[[[0, 0, 0], [0, 0, 0], [0, 0, 0], [0, 0, 0], ...</td>\n    </tr>\n    <tr>\n      <th>22</th>\n      <td>IMG_6363_JPG.rf.84c6a50356c5bb1103fedad84e283b...</td>\n      <td>10</td>\n      <td>[[[0, 0, 0], [0, 0, 0], [0, 0, 0], [0, 0, 0], ...</td>\n    </tr>\n    <tr>\n      <th>23</th>\n      <td>IMG_6363_JPG.rf.a3a457eae34a1c542244e601db0515...</td>\n      <td>10</td>\n      <td>[[[0, 0, 0], [0, 0, 0], [0, 0, 0], [0, 0, 0], ...</td>\n    </tr>\n    <tr>\n      <th>24</th>\n      <td>IMG_6390_JPG.rf.562f079af1fe9fd1c10d8f72b015b5...</td>\n      <td>7</td>\n      <td>[[[0, 0, 0], [0, 0, 0], [0, 0, 0], [0, 0, 0], ...</td>\n    </tr>\n    <tr>\n      <th>25</th>\n      <td>IMG_6390_JPG.rf.e1a283f48e40d3e34a70c475ed5258...</td>\n      <td>7</td>\n      <td>[[[0, 0, 0], [0, 0, 0], [0, 0, 0], [0, 0, 0], ...</td>\n    </tr>\n    <tr>\n      <th>26</th>\n      <td>IMG_6393_JPG.rf.be0f2c550570dc78c3001a17cb9b23...</td>\n      <td>9</td>\n      <td>[[[0, 0, 0], [0, 0, 0], [0, 0, 0], [0, 0, 0], ...</td>\n    </tr>\n    <tr>\n      <th>27</th>\n      <td>IMG_6393_JPG.rf.bfe0e7ff7b86627959024830558517...</td>\n      <td>9</td>\n      <td>[[[0, 0, 0], [0, 0, 0], [0, 0, 0], [0, 0, 0], ...</td>\n    </tr>\n    <tr>\n      <th>28</th>\n      <td>IMG_6398_JPG.rf.253314d6fd386880c10b739970e858...</td>\n      <td>8</td>\n      <td>[[[0, 0, 0], [0, 0, 0], [0, 0, 0], [0, 0, 0], ...</td>\n    </tr>\n    <tr>\n      <th>29</th>\n      <td>IMG_6398_JPG.rf.d843965199f172191fdeef780721e2...</td>\n      <td>8</td>\n      <td>[[[0, 0, 0], [0, 0, 0], [0, 0, 0], [0, 0, 0], ...</td>\n    </tr>\n    <tr>\n      <th>30</th>\n      <td>IMG_6401_JPG.rf.91a9c7c0c67302d1a8a3b9dc1949bc...</td>\n      <td>4</td>\n      <td>[[[0, 0, 0], [0, 0, 0], [0, 0, 0], [0, 0, 0], ...</td>\n    </tr>\n    <tr>\n      <th>31</th>\n      <td>IMG_6401_JPG.rf.ae3c2f412fd00650a1eb0d7262853c...</td>\n      <td>4</td>\n      <td>[[[0, 0, 0], [0, 0, 0], [0, 0, 0], [0, 0, 0], ...</td>\n    </tr>\n    <tr>\n      <th>32</th>\n      <td>IMG_6411_JPG.rf.1342cc87e320b31d1b48ecc95f1ded...</td>\n      <td>11</td>\n      <td>[[[0, 0, 0], [0, 0, 0], [0, 0, 0], [0, 0, 0], ...</td>\n    </tr>\n    <tr>\n      <th>33</th>\n      <td>IMG_6411_JPG.rf.cfb966c19582e4475cb33d9c39a8d1...</td>\n      <td>11</td>\n      <td>[[[0, 0, 0], [0, 0, 0], [0, 0, 0], [0, 0, 0], ...</td>\n    </tr>\n    <tr>\n      <th>34</th>\n      <td>IMG_6413_JPG.rf.05f306c125b018758b84156db707a0...</td>\n      <td>10</td>\n      <td>[[[0, 0, 0], [0, 0, 0], [0, 0, 0], [0, 0, 0], ...</td>\n    </tr>\n    <tr>\n      <th>35</th>\n      <td>IMG_6413_JPG.rf.39133c5c0b68cc718e266b9f8a9445...</td>\n      <td>10</td>\n      <td>[[[0, 0, 0], [0, 0, 0], [0, 0, 0], [0, 0, 0], ...</td>\n    </tr>\n    <tr>\n      <th>36</th>\n      <td>IMG_6419_JPG.rf.93117b865ac7a80903abbc96b3b11b...</td>\n      <td>8</td>\n      <td>[[[0, 0, 0], [0, 0, 0], [0, 0, 0], [0, 0, 0], ...</td>\n    </tr>\n    <tr>\n      <th>37</th>\n      <td>IMG_6419_JPG.rf.f7aa78321e861e2e1dc3b1571f4885...</td>\n      <td>8</td>\n      <td>[[[0, 0, 0], [0, 0, 0], [0, 0, 0], [0, 0, 0], ...</td>\n    </tr>\n  </tbody>\n</table>\n</div>"
     },
     "execution_count": 12,
     "metadata": {},
     "output_type": "execute_result"
    }
   ],
   "source": [
    "annotation_train"
   ],
   "metadata": {
    "collapsed": false,
    "ExecuteTime": {
     "end_time": "2024-10-24T08:47:21.285429Z",
     "start_time": "2024-10-24T08:46:23.709879800Z"
    }
   },
   "id": "be3c7cd383acc4be"
  },
  {
   "cell_type": "markdown",
   "source": [],
   "metadata": {
    "collapsed": false
   },
   "id": "79c72d484945b564"
  },
  {
   "cell_type": "markdown",
   "source": [
    "# Tensor"
   ],
   "metadata": {
    "collapsed": false
   },
   "id": "5f2c2958a295a2d"
  },
  {
   "cell_type": "code",
   "execution_count": 13,
   "outputs": [],
   "source": [
    "train_loader, val_loader = split_tensor_data(annotation_train, annotation_valid)"
   ],
   "metadata": {
    "collapsed": false,
    "ExecuteTime": {
     "end_time": "2024-10-24T08:47:25.812383600Z",
     "start_time": "2024-10-24T08:47:21.280425600Z"
    }
   },
   "id": "2e3f702b71e3d9e3"
  },
  {
   "cell_type": "code",
   "execution_count": 3,
   "outputs": [
    {
     "name": "stdout",
     "output_type": "stream",
     "text": [
      "True\n"
     ]
    }
   ],
   "source": [
    "device = torch.device(\"cuda\" if torch.cuda.is_available() else \"cpu\")\n",
    "print(torch.cuda.is_available())"
   ],
   "metadata": {
    "collapsed": false,
    "ExecuteTime": {
     "end_time": "2024-10-28T08:51:59.572776400Z",
     "start_time": "2024-10-28T08:51:59.366892Z"
    }
   },
   "id": "c64054e9dec1eac3"
  },
  {
   "cell_type": "markdown",
   "source": [
    "# Train"
   ],
   "metadata": {
    "collapsed": false
   },
   "id": "7dae501576f14b7c"
  },
  {
   "cell_type": "code",
   "execution_count": null,
   "outputs": [
    {
     "name": "stderr",
     "output_type": "stream",
     "text": [
      "Training:   1%|          | 1/100 [07:38<12:36:49, 458.68s/it]"
     ]
    },
    {
     "name": "stdout",
     "output_type": "stream",
     "text": [
      "Epoch 1/100 - Train Accuracy: 0.0000, Train Loss: 1400856691.3409,Val Accuracy: 0.0000,Val Loss: 28.7646\n"
     ]
    },
    {
     "name": "stderr",
     "output_type": "stream",
     "text": [
      "Training:   2%|▏         | 2/100 [09:38<7:03:15, 259.14s/it] "
     ]
    },
    {
     "name": "stdout",
     "output_type": "stream",
     "text": [
      "Epoch 2/100 - Train Accuracy: 0.0000, Train Loss: 12.5269,Val Accuracy: 0.0000,Val Loss: 24.3631\n"
     ]
    },
    {
     "name": "stderr",
     "output_type": "stream",
     "text": [
      "Training:   3%|▎         | 3/100 [11:28<5:08:54, 191.07s/it]"
     ]
    },
    {
     "name": "stdout",
     "output_type": "stream",
     "text": [
      "Epoch 3/100 - Train Accuracy: 0.0000, Train Loss: 6.4880,Val Accuracy: 0.0000,Val Loss: 33.7583\n"
     ]
    },
    {
     "name": "stderr",
     "output_type": "stream",
     "text": [
      "Training:   4%|▍         | 4/100 [13:52<4:36:23, 172.74s/it]"
     ]
    },
    {
     "name": "stdout",
     "output_type": "stream",
     "text": [
      "Epoch 4/100 - Train Accuracy: 0.0000, Train Loss: 8.4814,Val Accuracy: 0.0000,Val Loss: 20.9348\n"
     ]
    },
    {
     "name": "stderr",
     "output_type": "stream",
     "text": [
      "Training:   5%|▌         | 5/100 [16:04<4:10:10, 158.00s/it]"
     ]
    },
    {
     "name": "stdout",
     "output_type": "stream",
     "text": [
      "Epoch 5/100 - Train Accuracy: 0.0000, Train Loss: 9.3258,Val Accuracy: 0.0000,Val Loss: 23.8912\n"
     ]
    },
    {
     "name": "stderr",
     "output_type": "stream",
     "text": [
      "Training:   6%|▌         | 6/100 [17:49<3:39:22, 140.02s/it]"
     ]
    },
    {
     "name": "stdout",
     "output_type": "stream",
     "text": [
      "Epoch 6/100 - Train Accuracy: 0.0000, Train Loss: 9.7415,Val Accuracy: 0.0000,Val Loss: 19.5980\n"
     ]
    },
    {
     "name": "stderr",
     "output_type": "stream",
     "text": [
      "Training:   7%|▋         | 7/100 [21:07<4:05:59, 158.71s/it]"
     ]
    },
    {
     "name": "stdout",
     "output_type": "stream",
     "text": [
      "Epoch 7/100 - Train Accuracy: 0.0000, Train Loss: 5.3191,Val Accuracy: 0.0000,Val Loss: 14.2507\n"
     ]
    },
    {
     "name": "stderr",
     "output_type": "stream",
     "text": [
      "Training:   8%|▊         | 8/100 [23:10<3:46:00, 147.40s/it]"
     ]
    },
    {
     "name": "stdout",
     "output_type": "stream",
     "text": [
      "Epoch 8/100 - Train Accuracy: 0.0000, Train Loss: 3.4625,Val Accuracy: 0.0000,Val Loss: 11.5517\n"
     ]
    }
   ],
   "source": [
    "smodel = Simple_CNN()\n",
    "train_metrics, val_metrics, best_model = train(smodel, train_loader, val_loader, optimizer=torch.optim.Adam, model_name='Simple-model')"
   ],
   "metadata": {
    "collapsed": false,
    "is_executing": true,
    "ExecuteTime": {
     "start_time": "2024-10-24T08:50:13.217840800Z"
    }
   },
   "id": "9143c0c78c5874a8"
  },
  {
   "cell_type": "code",
   "execution_count": null,
   "outputs": [],
   "source": [],
   "metadata": {
    "collapsed": false,
    "ExecuteTime": {
     "end_time": "2024-10-24T08:47:47.227101400Z",
     "start_time": "2024-10-24T08:47:47.227101400Z"
    }
   },
   "id": "26281a507538bfab"
  }
 ],
 "metadata": {
  "kernelspec": {
   "display_name": "Python 3",
   "language": "python",
   "name": "python3"
  },
  "language_info": {
   "codemirror_mode": {
    "name": "ipython",
    "version": 2
   },
   "file_extension": ".py",
   "mimetype": "text/x-python",
   "name": "python",
   "nbconvert_exporter": "python",
   "pygments_lexer": "ipython2",
   "version": "2.7.6"
  }
 },
 "nbformat": 4,
 "nbformat_minor": 5
}
