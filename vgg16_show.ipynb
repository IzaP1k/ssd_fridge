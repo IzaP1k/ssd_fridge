{
 "cells": [
  {
   "cell_type": "code",
   "execution_count": 2,
   "outputs": [],
   "source": [
    "import torch.optim\n",
    "\n",
    "from vgg16_scratch import *"
   ],
   "metadata": {
    "collapsed": false,
    "ExecuteTime": {
     "end_time": "2024-11-06T23:14:12.732480Z",
     "start_time": "2024-11-06T23:14:12.730031Z"
    }
   },
   "id": "7d2d823bd381490d"
  },
  {
   "cell_type": "code",
   "execution_count": 3,
   "id": "initial_id",
   "metadata": {
    "collapsed": true,
    "ExecuteTime": {
     "end_time": "2024-11-06T23:14:12.839482Z",
     "start_time": "2024-11-06T23:14:12.738036Z"
    }
   },
   "outputs": [],
   "source": [
    "%load_ext autoreload\n",
    "%autoreload 2\n",
    "%reload_ext autoreload"
   ]
  },
  {
   "cell_type": "code",
   "execution_count": 5,
   "outputs": [],
   "source": [
    "train_annotations = pd.read_csv(rf\"jedzenie\\train\\labels\\_annotations.csv\")\n",
    "valid_annotations = pd.read_csv(rf\"jedzenie\\valid\\labels\\_annotations.csv\")\n",
    "test_annotations = pd.read_csv(rf\"jedzenie\\test\\labels\\_annotations.csv\")"
   ],
   "metadata": {
    "collapsed": false,
    "ExecuteTime": {
     "end_time": "2024-11-06T23:15:49.423015Z",
     "start_time": "2024-11-06T23:15:49.356698Z"
    }
   },
   "id": "76939ac96af2cebf"
  },
  {
   "cell_type": "code",
   "execution_count": 6,
   "outputs": [],
   "source": [
    "train_class_counts, val_class_counts, test_class_counts = change_labels(train_annotations, valid_annotations, test_annotations)"
   ],
   "metadata": {
    "collapsed": false,
    "ExecuteTime": {
     "end_time": "2024-11-06T23:15:58.861108Z",
     "start_time": "2024-11-06T23:15:58.805582Z"
    }
   },
   "id": "bf143f490af765b8"
  },
  {
   "cell_type": "code",
   "execution_count": 9,
   "outputs": [],
   "source": [
    "train_df = get_data(train_class_counts, rf\"jedzenie\\train\\images\")"
   ],
   "metadata": {
    "collapsed": false,
    "ExecuteTime": {
     "end_time": "2024-11-06T23:16:25.824068Z",
     "start_time": "2024-11-06T23:16:25.181064Z"
    }
   },
   "id": "4df590fe79703b0d"
  },
  {
   "cell_type": "code",
   "execution_count": 7,
   "outputs": [],
   "source": [
    "val_df = get_data(val_class_counts, rf\"jedzenie\\valid\\images\")"
   ],
   "metadata": {
    "collapsed": false,
    "ExecuteTime": {
     "end_time": "2024-11-06T23:16:09.299064Z",
     "start_time": "2024-11-06T23:16:09.216973Z"
    }
   },
   "id": "a1eb60cb75647d0e"
  },
  {
   "cell_type": "code",
   "execution_count": 8,
   "outputs": [],
   "source": [
    "test_df = get_data(test_class_counts, rf\"jedzenie\\test\\images\")"
   ],
   "metadata": {
    "collapsed": false,
    "ExecuteTime": {
     "end_time": "2024-11-06T23:16:20.611125Z",
     "start_time": "2024-11-06T23:16:20.553324Z"
    }
   },
   "id": "e228828212594804"
  },
  {
   "cell_type": "code",
   "execution_count": 10,
   "outputs": [
    {
     "name": "stderr",
     "output_type": "stream",
     "text": [
      "C:\\Users\\Konrad\\Desktop\\tu sie baw\\ssd_fridge\\vgg16_scratch.py:289: UserWarning: Creating a tensor from a list of numpy.ndarrays is extremely slow. Please consider converting the list to a single numpy.ndarray with numpy.array() before converting to a tensor. (Triggered internally at C:\\actions-runner\\_work\\pytorch\\pytorch\\builder\\windows\\pytorch\\torch\\csrc\\utils\\tensor_new.cpp:281.)\n",
      "  y_train = torch.tensor(train_data['class_vector'].tolist(), dtype=torch.float)\n"
     ]
    }
   ],
   "source": [
    "train_loader, val_loader, test_loader = split_tensor_data(train_df, val_df, test_df)"
   ],
   "metadata": {
    "collapsed": false,
    "ExecuteTime": {
     "end_time": "2024-11-06T23:16:35.545510Z",
     "start_time": "2024-11-06T23:16:35.318838Z"
    }
   },
   "id": "619ae19aa128cfa3"
  },
  {
   "cell_type": "code",
   "execution_count": 11,
   "outputs": [],
   "source": [
    "num_classes = 4\n",
    "num_epochs = 50\n",
    "batch_size = 2\n",
    "learning_rate = 0.001"
   ],
   "metadata": {
    "collapsed": false,
    "ExecuteTime": {
     "end_time": "2024-11-06T23:16:35.598404Z",
     "start_time": "2024-11-06T23:16:35.546511Z"
    }
   },
   "id": "cac365efd0b9cbdc"
  },
  {
   "cell_type": "code",
   "execution_count": null,
   "outputs": [],
   "source": [
    "# torch.cuda.memory_summary(device=None, abbreviated=False)"
   ],
   "metadata": {
    "collapsed": false,
    "ExecuteTime": {
     "start_time": "2024-11-06T23:14:13.241962Z"
    }
   },
   "id": "af93b03fd3008705"
  },
  {
   "cell_type": "code",
   "execution_count": 15,
   "outputs": [],
   "source": [
    "device = \"cpu\""
   ],
   "metadata": {
    "collapsed": false,
    "ExecuteTime": {
     "end_time": "2024-11-06T23:17:10.367019Z",
     "start_time": "2024-11-06T23:17:10.315182Z"
    }
   },
   "id": "d56f86f032888d8c"
  },
  {
   "cell_type": "code",
   "execution_count": 16,
   "outputs": [],
   "source": [
    "vgg_model = VGG16(num_classes=4).to(device)"
   ],
   "metadata": {
    "collapsed": false,
    "ExecuteTime": {
     "end_time": "2024-11-06T23:17:20.611413Z",
     "start_time": "2024-11-06T23:17:20.000669Z"
    }
   },
   "id": "579c1557866a8c6e"
  },
  {
   "cell_type": "code",
   "outputs": [],
   "source": [
    "torch.cuda.empty_cache()"
   ],
   "metadata": {
    "collapsed": false,
    "ExecuteTime": {
     "end_time": "2024-11-06T23:17:20.659440Z",
     "start_time": "2024-11-06T23:17:20.611413Z"
    }
   },
   "id": "14b4b1f20ac4823c",
   "execution_count": 17
  },
  {
   "cell_type": "code",
   "execution_count": 18,
   "outputs": [],
   "source": [
    "criterion = nn.MSELoss()\n",
    "optimizer = torch.optim.SGD(vgg_model.parameters(), lr=learning_rate, weight_decay = 0.005, momentum = 0.9)  "
   ],
   "metadata": {
    "collapsed": false,
    "ExecuteTime": {
     "end_time": "2024-11-06T23:17:21.430856Z",
     "start_time": "2024-11-06T23:17:20.660442Z"
    }
   },
   "id": "2f3e498bd8602d3"
  },
  {
   "cell_type": "code",
   "execution_count": 19,
   "outputs": [
    {
     "name": "stdout",
     "output_type": "stream",
     "text": [
      "Epoch [1/50], Step [15/15], Loss: 0.5602\n",
      "Liczba błędów przewidywań dla każdej kolumny: tensor([6, 1, 0, 6])\n",
      "Średnia różnica między przewidywaniami a etykietami dla każdej kolumny: tensor([1.0000, 0.1429, 0.0000, 1.0000])\n",
      "Epoch [2/50], Step [15/15], Loss: 0.5178\n",
      "Liczba błędów przewidywań dla każdej kolumny: tensor([4, 2, 3, 4])\n",
      "Średnia różnica między przewidywaniami a etykietami dla każdej kolumny: tensor([1.0000, 0.2857, 0.4286, 0.5714])\n",
      "Epoch [3/50], Step [15/15], Loss: 0.2145\n",
      "Liczba błędów przewidywań dla każdej kolumny: tensor([4, 0, 2, 3])\n",
      "Średnia różnica między przewidywaniami a etykietami dla każdej kolumny: tensor([0.5714, 0.0000, 0.2857, 0.4286])\n",
      "Epoch [4/50], Step [15/15], Loss: 0.1762\n",
      "Liczba błędów przewidywań dla każdej kolumny: tensor([3, 1, 4, 5])\n",
      "Średnia różnica między przewidywaniami a etykietami dla każdej kolumny: tensor([0.4286, 0.1429, 0.5714, 0.7143])\n",
      "Epoch [5/50], Step [15/15], Loss: 0.2417\n",
      "Liczba błędów przewidywań dla każdej kolumny: tensor([4, 0, 4, 3])\n",
      "Średnia różnica między przewidywaniami a etykietami dla każdej kolumny: tensor([0.7143, 0.0000, 0.5714, 0.4286])\n",
      "Epoch [6/50], Step [15/15], Loss: 0.1090\n",
      "Liczba błędów przewidywań dla każdej kolumny: tensor([3, 2, 3, 5])\n",
      "Średnia różnica między przewidywaniami a etykietami dla każdej kolumny: tensor([0.7143, 0.2857, 0.4286, 0.7143])\n",
      "Epoch [7/50], Step [15/15], Loss: 0.0811\n",
      "Liczba błędów przewidywań dla każdej kolumny: tensor([3, 1, 1, 4])\n",
      "Średnia różnica między przewidywaniami a etykietami dla każdej kolumny: tensor([0.5714, 0.1429, 0.1429, 0.5714])\n",
      "Epoch [8/50], Step [15/15], Loss: 0.1174\n",
      "Liczba błędów przewidywań dla każdej kolumny: tensor([4, 0, 2, 3])\n",
      "Średnia różnica między przewidywaniami a etykietami dla każdej kolumny: tensor([1.0000, 0.0000, 0.2857, 0.4286])\n",
      "Epoch [9/50], Step [15/15], Loss: 0.1192\n",
      "Liczba błędów przewidywań dla każdej kolumny: tensor([3, 0, 0, 3])\n",
      "Średnia różnica między przewidywaniami a etykietami dla każdej kolumny: tensor([0.5714, 0.0000, 0.0000, 0.4286])\n",
      "Epoch [10/50], Step [15/15], Loss: 0.0662\n",
      "Liczba błędów przewidywań dla każdej kolumny: tensor([5, 1, 1, 2])\n",
      "Średnia różnica między przewidywaniami a etykietami dla każdej kolumny: tensor([0.8571, 0.1429, 0.1429, 0.2857])\n",
      "Epoch [11/50], Step [15/15], Loss: 0.0704\n",
      "Liczba błędów przewidywań dla każdej kolumny: tensor([3, 1, 2, 3])\n",
      "Średnia różnica między przewidywaniami a etykietami dla każdej kolumny: tensor([0.4286, 0.1429, 0.2857, 0.4286])\n",
      "Epoch [12/50], Step [15/15], Loss: 0.1085\n",
      "Liczba błędów przewidywań dla każdej kolumny: tensor([3, 0, 3, 4])\n",
      "Średnia różnica między przewidywaniami a etykietami dla każdej kolumny: tensor([0.4286, 0.0000, 0.4286, 0.5714])\n",
      "Epoch [13/50], Step [15/15], Loss: 0.0988\n",
      "Liczba błędów przewidywań dla każdej kolumny: tensor([2, 1, 3, 3])\n",
      "Średnia różnica między przewidywaniami a etykietami dla każdej kolumny: tensor([0.4286, 0.1429, 0.4286, 0.4286])\n",
      "Epoch [14/50], Step [15/15], Loss: 0.1339\n",
      "Liczba błędów przewidywań dla każdej kolumny: tensor([2, 0, 1, 2])\n",
      "Średnia różnica między przewidywaniami a etykietami dla każdej kolumny: tensor([0.5714, 0.0000, 0.1429, 0.2857])\n",
      "Epoch [15/50], Step [15/15], Loss: 0.0841\n",
      "Liczba błędów przewidywań dla każdej kolumny: tensor([4, 1, 0, 3])\n",
      "Średnia różnica między przewidywaniami a etykietami dla każdej kolumny: tensor([0.7143, 0.1429, 0.0000, 0.4286])\n",
      "Epoch [16/50], Step [15/15], Loss: 0.0542\n",
      "Liczba błędów przewidywań dla każdej kolumny: tensor([4, 0, 2, 3])\n",
      "Średnia różnica między przewidywaniami a etykietami dla każdej kolumny: tensor([0.7143, 0.0000, 0.2857, 0.4286])\n",
      "Epoch [17/50], Step [15/15], Loss: 0.0596\n",
      "Liczba błędów przewidywań dla każdej kolumny: tensor([4, 0, 3, 2])\n",
      "Średnia różnica między przewidywaniami a etykietami dla każdej kolumny: tensor([0.7143, 0.0000, 0.4286, 0.2857])\n",
      "Epoch [18/50], Step [15/15], Loss: 0.0505\n",
      "Liczba błędów przewidywań dla każdej kolumny: tensor([2, 1, 2, 3])\n",
      "Średnia różnica między przewidywaniami a etykietami dla każdej kolumny: tensor([0.2857, 0.1429, 0.2857, 0.4286])\n",
      "Epoch [19/50], Step [15/15], Loss: 0.0539\n",
      "Liczba błędów przewidywań dla każdej kolumny: tensor([2, 1, 1, 4])\n",
      "Średnia różnica między przewidywaniami a etykietami dla każdej kolumny: tensor([0.4286, 0.1429, 0.1429, 0.5714])\n",
      "Epoch [20/50], Step [15/15], Loss: 0.1022\n",
      "Liczba błędów przewidywań dla każdej kolumny: tensor([2, 1, 1, 3])\n",
      "Średnia różnica między przewidywaniami a etykietami dla każdej kolumny: tensor([0.5714, 0.1429, 0.1429, 0.4286])\n",
      "Epoch [21/50], Step [15/15], Loss: 0.0831\n",
      "Liczba błędów przewidywań dla każdej kolumny: tensor([3, 0, 1, 4])\n",
      "Średnia różnica między przewidywaniami a etykietami dla każdej kolumny: tensor([0.5714, 0.0000, 0.1429, 0.5714])\n",
      "Epoch [22/50], Step [15/15], Loss: 0.0433\n",
      "Liczba błędów przewidywań dla każdej kolumny: tensor([2, 0, 2, 4])\n",
      "Średnia różnica między przewidywaniami a etykietami dla każdej kolumny: tensor([0.4286, 0.0000, 0.2857, 0.5714])\n",
      "Epoch [23/50], Step [15/15], Loss: 0.0368\n",
      "Liczba błędów przewidywań dla każdej kolumny: tensor([3, 1, 1, 4])\n",
      "Średnia różnica między przewidywaniami a etykietami dla każdej kolumny: tensor([0.7143, 0.1429, 0.1429, 0.5714])\n",
      "Epoch [24/50], Step [15/15], Loss: 0.0511\n",
      "Liczba błędów przewidywań dla każdej kolumny: tensor([2, 0, 0, 3])\n",
      "Średnia różnica między przewidywaniami a etykietami dla każdej kolumny: tensor([0.4286, 0.0000, 0.0000, 0.4286])\n",
      "Epoch [25/50], Step [15/15], Loss: 0.0283\n",
      "Liczba błędów przewidywań dla każdej kolumny: tensor([2, 0, 3, 3])\n",
      "Średnia różnica między przewidywaniami a etykietami dla każdej kolumny: tensor([0.4286, 0.0000, 0.4286, 0.4286])\n",
      "Epoch [26/50], Step [15/15], Loss: 0.0316\n",
      "Liczba błędów przewidywań dla każdej kolumny: tensor([3, 0, 1, 3])\n",
      "Średnia różnica między przewidywaniami a etykietami dla każdej kolumny: tensor([0.5714, 0.0000, 0.1429, 0.4286])\n",
      "Epoch [27/50], Step [15/15], Loss: 0.0660\n",
      "Liczba błędów przewidywań dla każdej kolumny: tensor([3, 0, 1, 2])\n",
      "Średnia różnica między przewidywaniami a etykietami dla każdej kolumny: tensor([0.5714, 0.0000, 0.1429, 0.2857])\n",
      "Epoch [28/50], Step [15/15], Loss: 0.0284\n",
      "Liczba błędów przewidywań dla każdej kolumny: tensor([3, 0, 1, 3])\n",
      "Średnia różnica między przewidywaniami a etykietami dla każdej kolumny: tensor([0.5714, 0.0000, 0.1429, 0.4286])\n",
      "Epoch [29/50], Step [15/15], Loss: 0.0221\n",
      "Liczba błędów przewidywań dla każdej kolumny: tensor([3, 1, 0, 4])\n",
      "Średnia różnica między przewidywaniami a etykietami dla każdej kolumny: tensor([0.5714, 0.1429, 0.0000, 0.5714])\n",
      "Epoch [30/50], Step [15/15], Loss: 0.0470\n",
      "Liczba błędów przewidywań dla każdej kolumny: tensor([4, 0, 0, 3])\n",
      "Średnia różnica między przewidywaniami a etykietami dla każdej kolumny: tensor([0.7143, 0.0000, 0.0000, 0.4286])\n",
      "Epoch [31/50], Step [15/15], Loss: 0.0381\n",
      "Liczba błędów przewidywań dla każdej kolumny: tensor([3, 1, 0, 3])\n",
      "Średnia różnica między przewidywaniami a etykietami dla każdej kolumny: tensor([0.5714, 0.1429, 0.0000, 0.4286])\n",
      "Epoch [32/50], Step [15/15], Loss: 0.0440\n",
      "Liczba błędów przewidywań dla każdej kolumny: tensor([3, 0, 1, 3])\n",
      "Średnia różnica między przewidywaniami a etykietami dla każdej kolumny: tensor([0.5714, 0.0000, 0.1429, 0.4286])\n",
      "Epoch [33/50], Step [15/15], Loss: 0.0176\n",
      "Liczba błędów przewidywań dla każdej kolumny: tensor([4, 0, 0, 3])\n",
      "Średnia różnica między przewidywaniami a etykietami dla każdej kolumny: tensor([0.7143, 0.0000, 0.0000, 0.4286])\n",
      "Epoch [34/50], Step [15/15], Loss: 0.0709\n",
      "Liczba błędów przewidywań dla każdej kolumny: tensor([3, 0, 1, 2])\n",
      "Średnia różnica między przewidywaniami a etykietami dla każdej kolumny: tensor([0.5714, 0.0000, 0.1429, 0.2857])\n",
      "Epoch [35/50], Step [15/15], Loss: 0.0281\n",
      "Liczba błędów przewidywań dla każdej kolumny: tensor([4, 0, 1, 3])\n",
      "Średnia różnica między przewidywaniami a etykietami dla każdej kolumny: tensor([0.7143, 0.0000, 0.1429, 0.4286])\n",
      "Epoch [36/50], Step [15/15], Loss: 0.0827\n",
      "Liczba błędów przewidywań dla każdej kolumny: tensor([4, 0, 0, 4])\n",
      "Średnia różnica między przewidywaniami a etykietami dla każdej kolumny: tensor([0.7143, 0.0000, 0.0000, 0.5714])\n",
      "Epoch [37/50], Step [15/15], Loss: 0.0342\n",
      "Liczba błędów przewidywań dla każdej kolumny: tensor([2, 0, 0, 2])\n",
      "Średnia różnica między przewidywaniami a etykietami dla każdej kolumny: tensor([0.4286, 0.0000, 0.0000, 0.2857])\n",
      "Epoch [38/50], Step [15/15], Loss: 0.0396\n",
      "Liczba błędów przewidywań dla każdej kolumny: tensor([3, 0, 4, 3])\n",
      "Średnia różnica między przewidywaniami a etykietami dla każdej kolumny: tensor([0.5714, 0.0000, 0.5714, 0.4286])\n",
      "Epoch [39/50], Step [15/15], Loss: 0.0206\n",
      "Liczba błędów przewidywań dla każdej kolumny: tensor([3, 0, 2, 3])\n",
      "Średnia różnica między przewidywaniami a etykietami dla każdej kolumny: tensor([0.5714, 0.0000, 0.2857, 0.4286])\n",
      "Epoch [40/50], Step [15/15], Loss: 0.0312\n",
      "Liczba błędów przewidywań dla każdej kolumny: tensor([3, 0, 1, 3])\n",
      "Średnia różnica między przewidywaniami a etykietami dla każdej kolumny: tensor([0.5714, 0.0000, 0.1429, 0.4286])\n",
      "Epoch [41/50], Step [15/15], Loss: 0.0234\n",
      "Liczba błędów przewidywań dla każdej kolumny: tensor([2, 0, 0, 3])\n",
      "Średnia różnica między przewidywaniami a etykietami dla każdej kolumny: tensor([0.4286, 0.0000, 0.0000, 0.4286])\n",
      "Epoch [42/50], Step [15/15], Loss: 0.0476\n",
      "Liczba błędów przewidywań dla każdej kolumny: tensor([2, 0, 1, 3])\n",
      "Średnia różnica między przewidywaniami a etykietami dla każdej kolumny: tensor([0.4286, 0.0000, 0.1429, 0.4286])\n",
      "Epoch [43/50], Step [15/15], Loss: 0.0225\n",
      "Liczba błędów przewidywań dla każdej kolumny: tensor([3, 0, 1, 4])\n",
      "Średnia różnica między przewidywaniami a etykietami dla każdej kolumny: tensor([0.5714, 0.0000, 0.1429, 0.5714])\n",
      "Epoch [44/50], Step [15/15], Loss: 0.0225\n",
      "Liczba błędów przewidywań dla każdej kolumny: tensor([3, 1, 1, 3])\n",
      "Średnia różnica między przewidywaniami a etykietami dla każdej kolumny: tensor([0.5714, 0.1429, 0.1429, 0.4286])\n",
      "Epoch [45/50], Step [15/15], Loss: 0.0312\n",
      "Liczba błędów przewidywań dla każdej kolumny: tensor([4, 0, 0, 3])\n",
      "Średnia różnica między przewidywaniami a etykietami dla każdej kolumny: tensor([0.7143, 0.0000, 0.0000, 0.4286])\n",
      "Epoch [46/50], Step [15/15], Loss: 0.0247\n",
      "Liczba błędów przewidywań dla każdej kolumny: tensor([3, 0, 1, 1])\n",
      "Średnia różnica między przewidywaniami a etykietami dla każdej kolumny: tensor([0.5714, 0.0000, 0.1429, 0.1429])\n",
      "Epoch [47/50], Step [15/15], Loss: 0.0370\n",
      "Liczba błędów przewidywań dla każdej kolumny: tensor([3, 0, 1, 2])\n",
      "Średnia różnica między przewidywaniami a etykietami dla każdej kolumny: tensor([0.5714, 0.0000, 0.1429, 0.2857])\n",
      "Epoch [48/50], Step [15/15], Loss: 0.0207\n",
      "Liczba błędów przewidywań dla każdej kolumny: tensor([2, 0, 0, 2])\n",
      "Średnia różnica między przewidywaniami a etykietami dla każdej kolumny: tensor([0.4286, 0.0000, 0.0000, 0.2857])\n",
      "Epoch [49/50], Step [15/15], Loss: 0.0156\n",
      "Liczba błędów przewidywań dla każdej kolumny: tensor([3, 0, 0, 3])\n",
      "Średnia różnica między przewidywaniami a etykietami dla każdej kolumny: tensor([0.5714, 0.0000, 0.0000, 0.4286])\n",
      "Epoch [50/50], Step [15/15], Loss: 0.0268\n",
      "Liczba błędów przewidywań dla każdej kolumny: tensor([3, 0, 0, 3])\n",
      "Średnia różnica między przewidywaniami a etykietami dla każdej kolumny: tensor([0.5714, 0.0000, 0.0000, 0.4286])\n"
     ]
    }
   ],
   "source": [
    "best_model, result = train_loop(model=vgg_model, train_loader=train_loader, valid_loader=val_loader, optimizer=optimizer, criterion=criterion, device=device, name=\"_1_\")"
   ],
   "metadata": {
    "collapsed": false,
    "ExecuteTime": {
     "end_time": "2024-11-07T00:26:05.511943Z",
     "start_time": "2024-11-06T23:17:21.430856Z"
    }
   },
   "id": "857d3cf42fe03a76"
  },
  {
   "cell_type": "code",
   "execution_count": 20,
   "outputs": [],
   "source": [
    "vgg_model2 = VGG16(num_classes=4).to(device)"
   ],
   "metadata": {
    "collapsed": false,
    "ExecuteTime": {
     "end_time": "2024-11-07T00:26:06.998903Z",
     "start_time": "2024-11-07T00:26:05.542818Z"
    }
   },
   "id": "a04c49a374c0c081"
  },
  {
   "cell_type": "code",
   "execution_count": 21,
   "outputs": [],
   "source": [
    "criterion2 = nn.MSELoss()\n",
    "optimizer2 = torch.optim.Adam(vgg_model2.parameters(), lr=learning_rate, weight_decay = 0.005)  "
   ],
   "metadata": {
    "collapsed": false,
    "ExecuteTime": {
     "end_time": "2024-11-07T00:26:07.073783Z",
     "start_time": "2024-11-07T00:26:06.999904Z"
    }
   },
   "id": "200240a9755ebe46"
  },
  {
   "cell_type": "code",
   "execution_count": 22,
   "outputs": [
    {
     "name": "stdout",
     "output_type": "stream",
     "text": [
      "Epoch [1/50], Step [15/15], Loss: 2.2982\n",
      "Liczba błędów przewidywań dla każdej kolumny: tensor([5, 3, 3, 3])\n",
      "Średnia różnica między przewidywaniami a etykietami dla każdej kolumny: tensor([1.5714, 0.4286, 0.7143, 0.7143])\n",
      "Epoch [2/50], Step [15/15], Loss: 1.2280\n",
      "Liczba błędów przewidywań dla każdej kolumny: tensor([6, 2, 6, 6])\n",
      "Średnia różnica między przewidywaniami a etykietami dla każdej kolumny: tensor([1.5714, 0.2857, 0.8571, 1.2857])\n",
      "Epoch [3/50], Step [15/15], Loss: 0.7927\n",
      "Liczba błędów przewidywań dla każdej kolumny: tensor([5, 0, 2, 4])\n",
      "Średnia różnica między przewidywaniami a etykietami dla każdej kolumny: tensor([1.1429, 0.0000, 0.2857, 0.5714])\n",
      "Epoch [4/50], Step [15/15], Loss: 0.8704\n",
      "Liczba błędów przewidywań dla każdej kolumny: tensor([5, 3, 1, 4])\n",
      "Średnia różnica między przewidywaniami a etykietami dla każdej kolumny: tensor([0.8571, 0.4286, 0.1429, 0.5714])\n",
      "Epoch [5/50], Step [15/15], Loss: 0.6974\n",
      "Liczba błędów przewidywań dla każdej kolumny: tensor([6, 0, 1, 4])\n",
      "Średnia różnica między przewidywaniami a etykietami dla każdej kolumny: tensor([1.1429, 0.0000, 0.1429, 0.5714])\n",
      "Epoch [6/50], Step [15/15], Loss: 0.9499\n",
      "Liczba błędów przewidywań dla każdej kolumny: tensor([6, 1, 4, 6])\n",
      "Średnia różnica między przewidywaniami a etykietami dla każdej kolumny: tensor([1.0000, 0.1429, 0.5714, 1.2857])\n",
      "Epoch [7/50], Step [15/15], Loss: 0.7650\n",
      "Liczba błędów przewidywań dla każdej kolumny: tensor([6, 0, 0, 4])\n",
      "Średnia różnica między przewidywaniami a etykietami dla każdej kolumny: tensor([1.0000, 0.0000, 0.0000, 0.8571])\n",
      "Epoch [8/50], Step [15/15], Loss: 0.5204\n",
      "Liczba błędów przewidywań dla każdej kolumny: tensor([6, 1, 0, 4])\n",
      "Średnia różnica między przewidywaniami a etykietami dla każdej kolumny: tensor([1.1429, 0.1429, 0.0000, 0.5714])\n",
      "Epoch [9/50], Step [15/15], Loss: 0.3602\n",
      "Liczba błędów przewidywań dla każdej kolumny: tensor([6, 2, 0, 4])\n",
      "Średnia różnica między przewidywaniami a etykietami dla każdej kolumny: tensor([1.1429, 0.2857, 0.0000, 0.5714])\n",
      "Epoch [10/50], Step [15/15], Loss: 0.6616\n",
      "Liczba błędów przewidywań dla każdej kolumny: tensor([4, 1, 1, 4])\n",
      "Średnia różnica między przewidywaniami a etykietami dla każdej kolumny: tensor([0.8571, 0.1429, 0.1429, 0.5714])\n",
      "Epoch [11/50], Step [15/15], Loss: 1.0458\n",
      "Liczba błędów przewidywań dla każdej kolumny: tensor([7, 1, 6, 4])\n",
      "Średnia różnica między przewidywaniami a etykietami dla każdej kolumny: tensor([1.2857, 0.1429, 0.8571, 0.5714])\n",
      "Epoch [12/50], Step [15/15], Loss: 0.4064\n",
      "Liczba błędów przewidywań dla każdej kolumny: tensor([7, 0, 2, 4])\n",
      "Średnia różnica między przewidywaniami a etykietami dla każdej kolumny: tensor([1.1429, 0.0000, 0.2857, 0.5714])\n",
      "Epoch [13/50], Step [15/15], Loss: 1.0033\n",
      "Liczba błędów przewidywań dla każdej kolumny: tensor([6, 1, 0, 4])\n",
      "Średnia różnica między przewidywaniami a etykietami dla każdej kolumny: tensor([1.1429, 0.1429, 0.0000, 0.5714])\n",
      "Epoch [14/50], Step [15/15], Loss: 0.6164\n",
      "Liczba błędów przewidywań dla każdej kolumny: tensor([6, 1, 1, 4])\n",
      "Średnia różnica między przewidywaniami a etykietami dla każdej kolumny: tensor([1.1429, 0.1429, 0.1429, 0.5714])\n",
      "Epoch [15/50], Step [15/15], Loss: 0.4483\n",
      "Liczba błędów przewidywań dla każdej kolumny: tensor([6, 1, 1, 5])\n",
      "Średnia różnica między przewidywaniami a etykietami dla każdej kolumny: tensor([1.0000, 0.1429, 0.1429, 1.0000])\n",
      "Epoch [16/50], Step [15/15], Loss: 0.2892\n",
      "Liczba błędów przewidywań dla każdej kolumny: tensor([6, 1, 0, 5])\n",
      "Średnia różnica między przewidywaniami a etykietami dla każdej kolumny: tensor([1.1429, 0.1429, 0.0000, 0.7143])\n",
      "Epoch [17/50], Step [15/15], Loss: 0.1635\n",
      "Liczba błędów przewidywań dla każdej kolumny: tensor([5, 2, 0, 4])\n",
      "Średnia różnica między przewidywaniami a etykietami dla każdej kolumny: tensor([1.1429, 0.2857, 0.0000, 0.5714])\n",
      "Epoch [18/50], Step [15/15], Loss: 0.2809\n",
      "Liczba błędów przewidywań dla każdej kolumny: tensor([5, 1, 1, 5])\n",
      "Średnia różnica między przewidywaniami a etykietami dla każdej kolumny: tensor([1.1429, 0.1429, 0.1429, 0.7143])\n",
      "Epoch [19/50], Step [15/15], Loss: 0.8364\n",
      "Liczba błędów przewidywań dla każdej kolumny: tensor([7, 1, 0, 5])\n",
      "Średnia różnica między przewidywaniami a etykietami dla każdej kolumny: tensor([1.2857, 0.1429, 0.0000, 0.7143])\n",
      "Epoch [20/50], Step [15/15], Loss: 0.5155\n",
      "Liczba błędów przewidywań dla każdej kolumny: tensor([6, 1, 0, 4])\n",
      "Średnia różnica między przewidywaniami a etykietami dla każdej kolumny: tensor([1.1429, 0.1429, 0.0000, 0.5714])\n",
      "Epoch [21/50], Step [15/15], Loss: 0.3997\n",
      "Liczba błędów przewidywań dla każdej kolumny: tensor([7, 0, 0, 4])\n",
      "Średnia różnica między przewidywaniami a etykietami dla każdej kolumny: tensor([1.1429, 0.0000, 0.0000, 0.5714])\n",
      "Epoch [22/50], Step [15/15], Loss: 0.6035\n",
      "Liczba błędów przewidywań dla każdej kolumny: tensor([4, 1, 1, 5])\n",
      "Średnia różnica między przewidywaniami a etykietami dla każdej kolumny: tensor([0.8571, 0.1429, 0.1429, 0.7143])\n",
      "Epoch [23/50], Step [15/15], Loss: 0.4675\n",
      "Liczba błędów przewidywań dla każdej kolumny: tensor([7, 1, 1, 5])\n",
      "Średnia różnica między przewidywaniami a etykietami dla każdej kolumny: tensor([1.4286, 0.1429, 0.1429, 0.7143])\n",
      "Epoch [24/50], Step [15/15], Loss: 0.7512\n",
      "Liczba błędów przewidywań dla każdej kolumny: tensor([6, 0, 0, 4])\n",
      "Średnia różnica między przewidywaniami a etykietami dla każdej kolumny: tensor([1.0000, 0.0000, 0.0000, 0.5714])\n",
      "Epoch [25/50], Step [15/15], Loss: 0.6778\n",
      "Liczba błędów przewidywań dla każdej kolumny: tensor([6, 2, 0, 5])\n",
      "Średnia różnica między przewidywaniami a etykietami dla każdej kolumny: tensor([1.2857, 0.2857, 0.0000, 0.7143])\n",
      "Epoch [26/50], Step [15/15], Loss: 0.3551\n",
      "Liczba błędów przewidywań dla każdej kolumny: tensor([5, 1, 1, 5])\n",
      "Średnia różnica między przewidywaniami a etykietami dla każdej kolumny: tensor([1.0000, 0.1429, 0.1429, 0.8571])\n",
      "Epoch [27/50], Step [15/15], Loss: 0.2359\n",
      "Liczba błędów przewidywań dla każdej kolumny: tensor([6, 1, 2, 5])\n",
      "Średnia różnica między przewidywaniami a etykietami dla każdej kolumny: tensor([1.1429, 0.1429, 0.2857, 0.7143])\n",
      "Epoch [28/50], Step [15/15], Loss: 0.4876\n",
      "Liczba błędów przewidywań dla każdej kolumny: tensor([7, 0, 0, 4])\n",
      "Średnia różnica między przewidywaniami a etykietami dla każdej kolumny: tensor([1.2857, 0.0000, 0.0000, 0.5714])\n",
      "Epoch [29/50], Step [15/15], Loss: 0.5419\n",
      "Liczba błędów przewidywań dla każdej kolumny: tensor([6, 1, 0, 5])\n",
      "Średnia różnica między przewidywaniami a etykietami dla każdej kolumny: tensor([1.2857, 0.1429, 0.0000, 0.7143])\n",
      "Epoch [30/50], Step [15/15], Loss: 0.5658\n",
      "Liczba błędów przewidywań dla każdej kolumny: tensor([6, 1, 0, 5])\n",
      "Średnia różnica między przewidywaniami a etykietami dla każdej kolumny: tensor([1.2857, 0.2857, 0.0000, 0.7143])\n",
      "Epoch [31/50], Step [15/15], Loss: 0.5010\n",
      "Liczba błędów przewidywań dla każdej kolumny: tensor([6, 1, 0, 5])\n",
      "Średnia różnica między przewidywaniami a etykietami dla każdej kolumny: tensor([1.2857, 0.1429, 0.0000, 0.7143])\n",
      "Epoch [32/50], Step [15/15], Loss: 0.7154\n",
      "Liczba błędów przewidywań dla każdej kolumny: tensor([4, 2, 1, 5])\n",
      "Średnia różnica między przewidywaniami a etykietami dla każdej kolumny: tensor([0.8571, 0.2857, 0.1429, 0.7143])\n",
      "Epoch [33/50], Step [15/15], Loss: 0.3822\n",
      "Liczba błędów przewidywań dla każdej kolumny: tensor([6, 1, 0, 4])\n",
      "Średnia różnica między przewidywaniami a etykietami dla każdej kolumny: tensor([1.1429, 0.1429, 0.0000, 0.5714])\n",
      "Epoch [34/50], Step [15/15], Loss: 0.5325\n",
      "Liczba błędów przewidywań dla każdej kolumny: tensor([5, 1, 1, 4])\n",
      "Średnia różnica między przewidywaniami a etykietami dla każdej kolumny: tensor([1.2857, 0.1429, 0.1429, 0.5714])\n",
      "Epoch [35/50], Step [15/15], Loss: 0.4539\n",
      "Liczba błędów przewidywań dla każdej kolumny: tensor([4, 1, 0, 4])\n",
      "Średnia różnica między przewidywaniami a etykietami dla każdej kolumny: tensor([0.8571, 0.1429, 0.0000, 0.5714])\n",
      "Epoch [36/50], Step [15/15], Loss: 0.2538\n",
      "Liczba błędów przewidywań dla każdej kolumny: tensor([6, 1, 0, 4])\n",
      "Średnia różnica między przewidywaniami a etykietami dla każdej kolumny: tensor([1.1429, 0.1429, 0.0000, 0.5714])\n",
      "Epoch [37/50], Step [15/15], Loss: 0.4456\n",
      "Liczba błędów przewidywań dla każdej kolumny: tensor([6, 3, 1, 4])\n",
      "Średnia różnica między przewidywaniami a etykietami dla każdej kolumny: tensor([1.2857, 0.4286, 0.1429, 0.5714])\n",
      "Epoch [38/50], Step [15/15], Loss: 0.3704\n",
      "Liczba błędów przewidywań dla każdej kolumny: tensor([5, 1, 0, 4])\n",
      "Średnia różnica między przewidywaniami a etykietami dla każdej kolumny: tensor([0.8571, 0.1429, 0.0000, 0.5714])\n",
      "Epoch [39/50], Step [15/15], Loss: 0.5714\n",
      "Liczba błędów przewidywań dla każdej kolumny: tensor([5, 1, 0, 5])\n",
      "Średnia różnica między przewidywaniami a etykietami dla każdej kolumny: tensor([1.0000, 0.1429, 0.0000, 0.7143])\n",
      "Epoch [40/50], Step [15/15], Loss: 0.5209\n",
      "Liczba błędów przewidywań dla każdej kolumny: tensor([5, 1, 0, 5])\n",
      "Średnia różnica między przewidywaniami a etykietami dla każdej kolumny: tensor([0.8571, 0.1429, 0.0000, 0.7143])\n",
      "Epoch [41/50], Step [15/15], Loss: 0.5611\n",
      "Liczba błędów przewidywań dla każdej kolumny: tensor([4, 1, 1, 4])\n",
      "Średnia różnica między przewidywaniami a etykietami dla każdej kolumny: tensor([0.7143, 0.1429, 0.1429, 0.5714])\n",
      "Epoch [42/50], Step [15/15], Loss: 0.3155\n",
      "Liczba błędów przewidywań dla każdej kolumny: tensor([5, 1, 0, 4])\n",
      "Średnia różnica między przewidywaniami a etykietami dla każdej kolumny: tensor([1.0000, 0.1429, 0.0000, 0.5714])\n",
      "Epoch [43/50], Step [15/15], Loss: 0.7096\n",
      "Liczba błędów przewidywań dla każdej kolumny: tensor([5, 1, 1, 5])\n",
      "Średnia różnica między przewidywaniami a etykietami dla każdej kolumny: tensor([0.8571, 0.1429, 0.1429, 0.7143])\n",
      "Epoch [44/50], Step [15/15], Loss: 0.4819\n",
      "Liczba błędów przewidywań dla każdej kolumny: tensor([7, 1, 0, 4])\n",
      "Średnia różnica między przewidywaniami a etykietami dla każdej kolumny: tensor([1.2857, 0.1429, 0.0000, 0.5714])\n",
      "Epoch [45/50], Step [15/15], Loss: 0.3651\n",
      "Liczba błędów przewidywań dla każdej kolumny: tensor([6, 2, 1, 4])\n",
      "Średnia różnica między przewidywaniami a etykietami dla każdej kolumny: tensor([1.1429, 0.4286, 0.1429, 0.5714])\n",
      "Epoch [46/50], Step [15/15], Loss: 0.3726\n",
      "Liczba błędów przewidywań dla każdej kolumny: tensor([5, 1, 0, 5])\n",
      "Średnia różnica między przewidywaniami a etykietami dla każdej kolumny: tensor([0.8571, 0.1429, 0.0000, 0.7143])\n",
      "Epoch [47/50], Step [15/15], Loss: 0.3575\n",
      "Liczba błędów przewidywań dla każdej kolumny: tensor([5, 2, 0, 5])\n",
      "Średnia różnica między przewidywaniami a etykietami dla każdej kolumny: tensor([1.0000, 0.2857, 0.0000, 0.7143])\n",
      "Epoch [48/50], Step [15/15], Loss: 0.5697\n",
      "Liczba błędów przewidywań dla każdej kolumny: tensor([6, 1, 1, 4])\n",
      "Średnia różnica między przewidywaniami a etykietami dla każdej kolumny: tensor([1.1429, 0.1429, 0.1429, 0.5714])\n",
      "Epoch [49/50], Step [15/15], Loss: 0.6142\n",
      "Liczba błędów przewidywań dla każdej kolumny: tensor([5, 1, 0, 6])\n",
      "Średnia różnica między przewidywaniami a etykietami dla każdej kolumny: tensor([1.0000, 0.1429, 0.0000, 1.1429])\n",
      "Epoch [50/50], Step [15/15], Loss: 1.0144\n",
      "Liczba błędów przewidywań dla każdej kolumny: tensor([5, 1, 0, 5])\n",
      "Średnia różnica między przewidywaniami a etykietami dla każdej kolumny: tensor([1.0000, 0.1429, 0.0000, 0.7143])\n"
     ]
    }
   ],
   "source": [
    "best_model2, result2 = train_loop(model=vgg_model2, train_loader=train_loader, valid_loader=val_loader, optimizer=optimizer2, criterion=criterion2, device=device, name=\"_2_\")"
   ],
   "metadata": {
    "collapsed": false,
    "ExecuteTime": {
     "end_time": "2024-11-07T01:40:14.462643Z",
     "start_time": "2024-11-07T00:26:07.074789Z"
    }
   },
   "id": "4a43455759b5133b"
  },
  {
   "cell_type": "code",
   "execution_count": null,
   "outputs": [],
   "source": [],
   "metadata": {
    "collapsed": false,
    "ExecuteTime": {
     "start_time": "2024-11-06T23:14:13.256474Z"
    }
   },
   "id": "6295e3ca17462e7a"
  }
 ],
 "metadata": {
  "kernelspec": {
   "display_name": "Python 3",
   "language": "python",
   "name": "python3"
  },
  "language_info": {
   "codemirror_mode": {
    "name": "ipython",
    "version": 2
   },
   "file_extension": ".py",
   "mimetype": "text/x-python",
   "name": "python",
   "nbconvert_exporter": "python",
   "pygments_lexer": "ipython2",
   "version": "2.7.6"
  }
 },
 "nbformat": 4,
 "nbformat_minor": 5
}
